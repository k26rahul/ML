{
 "cells": [
  {
   "cell_type": "code",
   "execution_count": 475,
   "metadata": {},
   "outputs": [],
   "source": [
    "import numpy as np\n",
    "import pandas as pd\n",
    "import random\n",
    "from enum import Enum\n",
    "from datetime import datetime, timedelta"
   ]
  },
  {
   "cell_type": "code",
   "execution_count": 476,
   "metadata": {},
   "outputs": [],
   "source": [
    "class Currency(Enum):\n",
    "  USD = (\"USD\", 1.0)         # United States Dollar (USD per USD)\n",
    "  AED = (\"AED\", 0.27)        # UAE Dirham (AED per USD)\n",
    "  INR = (\"INR\", 83.31)       # Indian Rupee (INR per USD)\n",
    "  JPY = (\"JPY\", 151.62)      # Japanese Yen (JPY per USD)\n",
    "  CNY = (\"CNY\", 7.23)        # Chinese Yuan (CNY per USD)\n",
    "  SGD = (\"SGD\", 1.35)        # Singapore Dollar (SGD per USD)\n",
    "  AUD = (\"AUD\", 1.52)        # Australian Dollar (AUD per USD)\n",
    "  CAD = (\"CAD\", 1.36)        # Canadian Dollar (CAD per USD)\n",
    "  MXN = (\"MXN\", 16.46)       # Mexican Peso (MXN per USD)\n",
    "  EUR = (\"EUR\", 0.92)        # Euro (EUR per USD)\n",
    "  GBP = (\"GBP\", 0.79)        # British Pound Sterling (GBP per USD)\n",
    "  CHF = (\"CHF\", 0.90)        # Swiss Franc (CHF per USD)\n",
    "  SEK = (\"SEK\", 10.67)       # Swedish Krona (SEK per USD)"
   ]
  },
  {
   "cell_type": "code",
   "execution_count": 477,
   "metadata": {},
   "outputs": [
    {
     "data": {
      "text/plain": [
       "12.003360941063498"
      ]
     },
     "execution_count": 477,
     "metadata": {},
     "output_type": "execute_result"
    },
    {
     "data": {
      "text/plain": [
       "11.043092065778419"
      ]
     },
     "execution_count": 477,
     "metadata": {},
     "output_type": "execute_result"
    },
    {
     "data": {
      "text/plain": [
       "1819.9495858840476"
      ]
     },
     "execution_count": 477,
     "metadata": {},
     "output_type": "execute_result"
    }
   ],
   "source": [
    "def inr_to_currency(inr_amount, to_currency):\n",
    "  usd_amount = inr_amount / Currency.INR.value[1]\n",
    "  converted_amount = usd_amount * to_currency.value[1]\n",
    "  return converted_amount\n",
    "\n",
    "\n",
    "inr_to_currency(1000, Currency.USD)\n",
    "inr_to_currency(1000, Currency.EUR)\n",
    "inr_to_currency(1000, Currency.JPY)"
   ]
  },
  {
   "cell_type": "code",
   "execution_count": 478,
   "metadata": {},
   "outputs": [],
   "source": [
    "class City(Enum):\n",
    "  PUNE = \"Pune\"\n",
    "  TOKYO = \"Tokyo\"\n",
    "  DUBAI = \"Dubai\"\n",
    "  SYDNEY = \"Sydney\"\n",
    "  SHANGHAI = \"Shanghai\"\n",
    "  SINGAPORE = \"Singapore\"\n",
    "  NEW_DELHI = \"New Delhi\"\n",
    "  MUMBAI = \"Mumbai\"\n",
    "  NEW_YORK = \"New York\"\n",
    "  LOS_ANGELES = \"Los Angeles\"\n",
    "  LONDON = \"London\"\n",
    "  PARIS = \"Paris\"\n",
    "  BERLIN = \"Berlin\"\n",
    "\n",
    "\n",
    "CityCurrency = {\n",
    "    City.PUNE: Currency.INR,\n",
    "    City.TOKYO: Currency.JPY,\n",
    "    City.DUBAI: Currency.AED,\n",
    "    City.SYDNEY: Currency.AUD,\n",
    "    City.SHANGHAI: Currency.CNY,\n",
    "    City.SINGAPORE: Currency.SGD,\n",
    "    City.NEW_DELHI: Currency.INR,\n",
    "    City.MUMBAI: Currency.INR,\n",
    "    City.NEW_YORK: Currency.USD,\n",
    "    City.LOS_ANGELES: Currency.USD,\n",
    "    City.LONDON: Currency.GBP,\n",
    "    City.PARIS: Currency.EUR,\n",
    "    City.BERLIN: Currency.EUR,\n",
    "}"
   ]
  },
  {
   "cell_type": "code",
   "execution_count": 503,
   "metadata": {},
   "outputs": [],
   "source": [
    "from functools import lru_cache\n",
    "\n",
    "\n",
    "class Amount(Enum):\n",
    "  INR_0 = 0\n",
    "  INR_1k = 1000\n",
    "  INR_5k = 5000\n",
    "  INR_10k = 10_000\n",
    "  INR_50k = 50_000\n",
    "  INR_100k = 100_000\n",
    "  INR_500k = 500_000\n",
    "  INR_1m = 1_000_000\n",
    "  INR_5m = 5_000_000\n",
    "  INR_10m = 10_000_000\n",
    "\n",
    "\n",
    "class AmountRange(Enum):\n",
    "  LOW = (Amount.INR_1k, Amount.INR_5k, Amount.INR_10k)\n",
    "  MEDIUM = (Amount.INR_10k, Amount.INR_50k, Amount.INR_100k)\n",
    "  HIGH = (Amount.INR_100k, Amount.INR_500k, Amount.INR_1m)\n",
    "  MAX = (Amount.INR_1m, Amount.INR_5m, Amount.INR_10m, None)\n",
    "\n",
    "\n",
    "# def get_eligible_amount_ranges(amount_range):\n",
    "#   amount_ranges = list(AmountRange)\n",
    "#   max_index = amount_ranges.index(amount_range) + 1\n",
    "#   eligible_ranges = amount_ranges[:max_index]\n",
    "#   return eligible_ranges\n",
    "\n",
    "\n",
    "# def compare_amount_range(service_range, my_range):\n",
    "#   eligible_ranges = get_eligible_amount_ranges(my_range)\n",
    "#   if service_range in eligible_ranges:\n",
    "#     return True\n",
    "#   else:\n",
    "#     return False\n",
    "\n",
    "\n",
    "@lru_cache(maxsize=None)\n",
    "def get_eligible_amount_ranges(amount_range):\n",
    "  amount_ranges = list(AmountRange)\n",
    "  max_index = amount_ranges.index(amount_range) + 1\n",
    "  eligible_ranges = amount_ranges[:max_index]\n",
    "  return eligible_ranges\n",
    "\n",
    "\n",
    "@lru_cache(maxsize=None)\n",
    "def compare_amount_range(service_range, my_range):\n",
    "  eligible_ranges = get_eligible_amount_ranges(my_range)\n",
    "  return service_range in eligible_ranges\n",
    "\n",
    "\n",
    "def get_random_amount_within_range(amount_range: AmountRange):\n",
    "  return random.choice(amount_range.value)\n",
    "\n",
    "\n",
    "def get_random_money_value(key):\n",
    "  keys = list(Amount)\n",
    "  idx = keys.index(key)\n",
    "\n",
    "  min_value = keys[idx - 1].value\n",
    "  max_value = Amount(key).value\n",
    "\n",
    "  return random.randint(min_value, max_value)"
   ]
  },
  {
   "cell_type": "code",
   "execution_count": 480,
   "metadata": {},
   "outputs": [],
   "source": [
    "class TransactionType(Enum):\n",
    "  WITHDRAWAL = \"Withdrawal\"  # Money withdrawn from an account\n",
    "  DEPOSIT = \"Deposit\"        # Money deposited into an account\n",
    "  TRANSFER = \"Transfer\"      # Money transferred from one account to another\n",
    "  PAYMENT = \"Payment\"        # Payment made for goods or services"
   ]
  },
  {
   "cell_type": "code",
   "execution_count": 502,
   "metadata": {},
   "outputs": [],
   "source": [
    "from functools import lru_cache\n",
    "\n",
    "\n",
    "class TransactionChannel(Enum):\n",
    "  ATM = \"ATM\"                        # Cash withdrawals\n",
    "  ONLINE_BANKING = \"Online Banking\"  # Banking via web\n",
    "  UPI = \"UPI\"                        # Real-time payment system (India)\n",
    "  POS = \"POS\"                        # Retail transactions\n",
    "  BANK = \"Bank\"                      # Generic bank transactions\n",
    "\n",
    "\n",
    "TransactionChannelMaxAmount = {\n",
    "    TransactionChannel.ATM: AmountRange.MEDIUM,\n",
    "    TransactionChannel.ONLINE_BANKING: AmountRange.HIGH,\n",
    "    TransactionChannel.UPI: AmountRange.MEDIUM,\n",
    "    TransactionChannel.POS: AmountRange.MEDIUM,\n",
    "    TransactionChannel.BANK: AmountRange.MAX,\n",
    "}\n",
    "\n",
    "EligibleChannelsForTransaction = {\n",
    "    TransactionType.WITHDRAWAL: [TransactionChannel.ATM, TransactionChannel.BANK],\n",
    "    TransactionType.DEPOSIT: [TransactionChannel.ATM, TransactionChannel.BANK],\n",
    "    TransactionType.TRANSFER: [TransactionChannel.ATM, TransactionChannel.ONLINE_BANKING, TransactionChannel.BANK, TransactionChannel.UPI],\n",
    "    TransactionType.PAYMENT: [\n",
    "        TransactionChannel.BANK, TransactionChannel.ONLINE_BANKING, TransactionChannel.UPI, TransactionChannel.POS\n",
    "    ]\n",
    "}\n",
    "\n",
    "cities_with_upi_support = [City.SINGAPORE, City.DUBAI,\n",
    "                           City.PARIS, City.LONDON, City.NEW_DELHI, City.MUMBAI, City.PUNE]\n",
    "\n",
    "\n",
    "# def get_eligible_channels(transaction_type, amount_range, city):\n",
    "#   channels = EligibleChannelsForTransaction[transaction_type]\n",
    "#   eligible_channels = [channel for channel in channels\n",
    "#                        if compare_amount_range(amount_range, TransactionChannelMaxAmount[channel])]\n",
    "\n",
    "#   if city not in cities_with_upi_support:\n",
    "#     eligible_channels = [\n",
    "#         channel for channel in eligible_channels if channel != TransactionChannel.UPI]\n",
    "\n",
    "#   return eligible_channels\n",
    "\n",
    "\n",
    "@lru_cache(maxsize=None)\n",
    "def get_eligible_channels(transaction_type, amount_range, city):\n",
    "  channels = EligibleChannelsForTransaction[transaction_type]\n",
    "  eligible_channels = [channel for channel in channels\n",
    "                       if compare_amount_range(amount_range, TransactionChannelMaxAmount[channel])]\n",
    "\n",
    "  if city not in cities_with_upi_support:\n",
    "    eligible_channels = [\n",
    "        channel for channel in eligible_channels if channel != TransactionChannel.UPI]\n",
    "\n",
    "  return eligible_channels"
   ]
  },
  {
   "cell_type": "code",
   "execution_count": 501,
   "metadata": {},
   "outputs": [],
   "source": [
    "from functools import lru_cache\n",
    "\n",
    "\n",
    "class CardType(Enum):\n",
    "  CREDIT_CARD = \"Credit Card\"    # Borrow funds for purchases\n",
    "  DEBIT_CARD = \"Debit Card\"      # Deducts money from checking account\n",
    "  PREPAID_CARD = \"Prepaid Card\"  # Pre-loaded funds for purchases\n",
    "  NA = \"NA\"                      # Not Applicable/Available\n",
    "\n",
    "\n",
    "CardTypeMaxAmount = {\n",
    "    CardType.CREDIT_CARD: AmountRange.HIGH,\n",
    "    CardType.DEBIT_CARD: AmountRange.HIGH,\n",
    "    CardType.PREPAID_CARD: AmountRange.LOW,\n",
    "    CardType.NA: None,\n",
    "}\n",
    "\n",
    "\n",
    "# def get_eligible_cards(amount_range: AmountRange):\n",
    "#   eligible_cards = [key for key, value in CardTypeMaxAmount.items()\n",
    "#                     if key is not CardType.NA and compare_amount_range(amount_range, value)]\n",
    "#   return eligible_cards\n",
    "\n",
    "\n",
    "@lru_cache(maxsize=None)\n",
    "def get_eligible_cards(amount_range: AmountRange):\n",
    "  eligible_cards = [key for key, value in CardTypeMaxAmount.items()\n",
    "                    if key is not CardType.NA and compare_amount_range(amount_range, value)]\n",
    "  return eligible_cards"
   ]
  },
  {
   "cell_type": "code",
   "execution_count": 483,
   "metadata": {},
   "outputs": [],
   "source": [
    "from itertools import chain\n",
    "\n",
    "\n",
    "class PaymentApp(Enum):\n",
    "  WHATSAPP_PAY = \"WhatsApp Pay\"  # Transaction via WhatsApp Pay\n",
    "  PAYTM = \"Paytm\"                # Transaction via Paytm\n",
    "  PHONEPE = \"PhonePe\"            # Transaction via PhonePe\n",
    "  GOOGLE_PAY = \"Google Pay\"      # Transaction via Google Pay\n",
    "  ALIPAY = \"Alipay\"              # Transaction via Alipay (China)\n",
    "  WECHAT_PAY = \"WeChat Pay\"      # Transaction via WeChat Pay (China)\n",
    "  PAYPAL = \"PayPal\"              # Transaction via PayPal\n",
    "  NA = \"NA\"                      # Not Applicable/Available\n",
    "\n",
    "\n",
    "class PaymentAppCategory(Enum):\n",
    "  CHINESE_APPS = [PaymentApp.ALIPAY, PaymentApp.WECHAT_PAY]\n",
    "  UPI_APPS = [PaymentApp.WHATSAPP_PAY, PaymentApp.PHONEPE, PaymentApp.PAYTM]\n",
    "  GLOBAL_APPS = [PaymentApp.GOOGLE_PAY, PaymentApp.PAYPAL]\n",
    "\n",
    "\n",
    "CityPaymentApp = {\n",
    "    City.PUNE: [PaymentAppCategory.UPI_APPS, PaymentAppCategory.GLOBAL_APPS],\n",
    "    City.TOKYO: [PaymentAppCategory.CHINESE_APPS, PaymentAppCategory.GLOBAL_APPS],\n",
    "    City.DUBAI: [PaymentAppCategory.UPI_APPS, PaymentAppCategory.GLOBAL_APPS],\n",
    "    City.SYDNEY: [PaymentAppCategory.GLOBAL_APPS],\n",
    "    City.SHANGHAI: [PaymentAppCategory.CHINESE_APPS,\n",
    "                    PaymentAppCategory.GLOBAL_APPS],\n",
    "    City.SINGAPORE: [PaymentAppCategory.UPI_APPS, PaymentAppCategory.GLOBAL_APPS],\n",
    "    City.NEW_DELHI: [PaymentAppCategory.UPI_APPS, PaymentAppCategory.GLOBAL_APPS],\n",
    "    City.MUMBAI: [PaymentAppCategory.UPI_APPS, PaymentAppCategory.GLOBAL_APPS],\n",
    "    City.NEW_YORK: [PaymentAppCategory.GLOBAL_APPS],\n",
    "    City.LOS_ANGELES: [PaymentAppCategory.GLOBAL_APPS],\n",
    "    City.LONDON: [PaymentAppCategory.GLOBAL_APPS],\n",
    "    City.PARIS: [PaymentAppCategory.UPI_APPS, PaymentAppCategory.GLOBAL_APPS],\n",
    "    City.BERLIN: [PaymentAppCategory.UPI_APPS, PaymentAppCategory.GLOBAL_APPS],\n",
    "}\n",
    "\n",
    "\n",
    "for key in CityPaymentApp:\n",
    "  CityPaymentApp[key] = list(chain.from_iterable(\n",
    "      [payment_app_category.value for payment_app_category in CityPaymentApp[key]]))"
   ]
  },
  {
   "cell_type": "code",
   "execution_count": 500,
   "metadata": {},
   "outputs": [],
   "source": [
    "from functools import lru_cache\n",
    "\n",
    "\n",
    "class MerchantCategory(Enum):\n",
    "  RETAIL = \"Retail\"                       # Physical goods\n",
    "  ONLINE_SERVICES = \"Online Services\"     # Online services\n",
    "  ECOMMERCE = \"E-commerce\"                # Online marketplaces\n",
    "  DINING = \"Dining\"                       # Restaurants and cafes\n",
    "  ENTERTAINMENT = \"Entertainment\"         # Venues for entertainment\n",
    "  TRANSPORT = \"Transport\"                 # Transportation services\n",
    "  HEALTHCARE = \"Healthcare\"               # Healthcare services\n",
    "  TRAVEL = \"Travel\"                       # Travel agencies\n",
    "  EDUCATION = \"Education\"                 # Educational services\n",
    "  FINANCIAL = \"Financial\"                 # Financial institutions\n",
    "  REAL_ESTATE = \"Real Estate\"             # Real estate services\n",
    "  NA = \"NA\"                               # Not Applicable/Available\n",
    "  OTHERS = \"Others\"                       # Other merchant categories\n",
    "\n",
    "\n",
    "MerchantAmountRange = {\n",
    "    MerchantCategory.RETAIL: (AmountRange.LOW, AmountRange.MEDIUM),\n",
    "    MerchantCategory.ONLINE_SERVICES: (AmountRange.LOW, AmountRange.MEDIUM),\n",
    "    MerchantCategory.ECOMMERCE: (AmountRange.LOW, AmountRange.MEDIUM),\n",
    "    MerchantCategory.DINING: (AmountRange.LOW, AmountRange.MEDIUM),\n",
    "    MerchantCategory.ENTERTAINMENT: (AmountRange.LOW, AmountRange.MEDIUM),\n",
    "    MerchantCategory.TRANSPORT: (AmountRange.LOW, AmountRange.MEDIUM),\n",
    "    MerchantCategory.TRAVEL: (AmountRange.LOW, AmountRange.MEDIUM),\n",
    "    MerchantCategory.HEALTHCARE: (AmountRange.LOW, AmountRange.HIGH),\n",
    "    MerchantCategory.EDUCATION: (AmountRange.LOW, AmountRange.HIGH),\n",
    "    MerchantCategory.FINANCIAL: (AmountRange.MEDIUM, AmountRange.MAX),\n",
    "    MerchantCategory.REAL_ESTATE: (AmountRange.HIGH, AmountRange.MAX),\n",
    "    MerchantCategory.NA: (None, None),\n",
    "    MerchantCategory.OTHERS: (None, None),\n",
    "}\n",
    "\n",
    "\n",
    "# def get_eligible_merchants(amount_range: AmountRange):\n",
    "#   eligible_merchants = [key for key, value in MerchantAmountRange.items()\n",
    "#                         if key not in (MerchantCategory.NA, MerchantCategory.OTHERS) and\n",
    "#                         compare_amount_range(value[0], amount_range) and\n",
    "#                         compare_amount_range(amount_range, value[1])]\n",
    "#   return eligible_merchants\n",
    "\n",
    "\n",
    "@lru_cache(maxsize=None)\n",
    "def get_eligible_merchants(amount_range: AmountRange):\n",
    "  eligible_merchants = [key for key, value in MerchantAmountRange.items()\n",
    "                        if key not in (MerchantCategory.NA, MerchantCategory.OTHERS) and\n",
    "                        compare_amount_range(value[0], amount_range) and\n",
    "                        compare_amount_range(amount_range, value[1])]\n",
    "  return eligible_merchants"
   ]
  },
  {
   "cell_type": "code",
   "execution_count": 485,
   "metadata": {},
   "outputs": [],
   "source": [
    "df = pd.DataFrame({\n",
    "    'timestamp': [],             # Date and time of transaction\n",
    "    'transaction_id': [],        # Unique identifier for each transaction\n",
    "    'account_id': [],            # Unique identifier for the bank account\n",
    "    'amount': [],                # Monetary value of the transaction\n",
    "    'currency': [],              # Currency of the transaction\n",
    "    'city': [],                  # City where the transaction occurred\n",
    "    'transaction_type': [],      # Nature or category of the transaction\n",
    "    'transaction_channel': [],   # Channel through which the transaction was made\n",
    "    'card_type': [],             # Type of card used for the transaction\n",
    "    'payment_app': [],           # Payment app used for the transaction\n",
    "    'merchant_id': [],           # Unique identifier for the merchant\n",
    "    'merchant_category': [],     # Category of the merchant\n",
    "})"
   ]
  },
  {
   "cell_type": "code",
   "execution_count": 486,
   "metadata": {},
   "outputs": [
    {
     "data": {
      "text/plain": [
       "108.42792011374358"
      ]
     },
     "execution_count": 486,
     "metadata": {},
     "output_type": "execute_result"
    }
   ],
   "source": [
    "def stochastic_shift(base, variance):\n",
    "  return base + base * random.uniform(-variance, +variance)\n",
    "\n",
    "\n",
    "stochastic_shift(100, 0.1)"
   ]
  },
  {
   "cell_type": "code",
   "execution_count": 487,
   "metadata": {},
   "outputs": [
    {
     "data": {
      "text/plain": [
       "[105.06289862501616,\n",
       " 100.931152549246,\n",
       " 92.56396473741272,\n",
       " 104.70929047327601,\n",
       " 101.77607952558091,\n",
       " 109.78465180219128,\n",
       " 90.06518723066756,\n",
       " 94.79661363882026,\n",
       " 104.36132503166533,\n",
       " 107.94509496981135]"
      ]
     },
     "execution_count": 487,
     "metadata": {},
     "output_type": "execute_result"
    }
   ],
   "source": [
    "def variance_split(total, num_parts, variance):\n",
    "  base_each = total / num_parts\n",
    "  final_parts = [stochastic_shift(base=base_each, variance=variance)\n",
    "                 for _ in range(num_parts)]\n",
    "  return final_parts\n",
    "\n",
    "\n",
    "variance_split(1000, 10, 0.1)"
   ]
  },
  {
   "cell_type": "code",
   "execution_count": 488,
   "metadata": {},
   "outputs": [],
   "source": [
    "def print_object(obj):\n",
    "  class_name = obj.__class__.__name__\n",
    "  attributes = \", \".join(\n",
    "      [f\"{key}={value}\" for key, value in obj.__dict__.items()])\n",
    "  print(f\"{class_name}({attributes})\")"
   ]
  },
  {
   "cell_type": "code",
   "execution_count": 489,
   "metadata": {},
   "outputs": [
    {
     "data": {
      "text/plain": [
       "2600"
      ]
     },
     "execution_count": 489,
     "metadata": {},
     "output_type": "execute_result"
    },
    {
     "data": {
      "text/plain": [
       "2595"
      ]
     },
     "execution_count": 489,
     "metadata": {},
     "output_type": "execute_result"
    },
    {
     "name": "stdout",
     "output_type": "stream",
     "text": [
      "CustomerProfile(city=City.PUNE, transaction_capacity=AmountRange.LOW)\n"
     ]
    }
   ],
   "source": [
    "class CustomerProfile:\n",
    "  def __init__(self, city, transaction_capacity):\n",
    "    self.city = city\n",
    "    self.transaction_capacity = transaction_capacity\n",
    "\n",
    "\n",
    "customer_profiles = []\n",
    "n = 50\n",
    "\n",
    "for city in City:\n",
    "  for amount_range in AmountRange:\n",
    "    for _ in range(int(stochastic_shift(n, 0.1))):\n",
    "      customer_profiles.append(CustomerProfile(city, amount_range))\n",
    "\n",
    "len(City) * len(AmountRange) * n\n",
    "len(customer_profiles)\n",
    "print_object(customer_profiles[0])"
   ]
  },
  {
   "cell_type": "code",
   "execution_count": 499,
   "metadata": {},
   "outputs": [],
   "source": [
    "# def get_city_currency(city):\n",
    "#   return CityCurrency[city]\n",
    "\n",
    "\n",
    "# def get_transaction_types():\n",
    "#   return list(TransactionType)\n",
    "\n",
    "\n",
    "# def get_transaction_channels(amount_range):\n",
    "#   return get_eligible_channels(amount_range)\n",
    "\n",
    "\n",
    "# def get_card_types(amount_range):\n",
    "#   return get_eligible_cards(amount_range)\n",
    "\n",
    "\n",
    "# def get_payment_apps(city):\n",
    "#   return CityPaymentApp[city]\n",
    "\n",
    "from functools import lru_cache\n",
    "\n",
    "\n",
    "@lru_cache(maxsize=None)\n",
    "def get_city_currency(city):\n",
    "  return CityCurrency[city]\n",
    "\n",
    "\n",
    "@lru_cache(maxsize=None)\n",
    "def get_transaction_types():\n",
    "  return list(TransactionType)\n",
    "\n",
    "\n",
    "@lru_cache(maxsize=None)\n",
    "def get_transaction_channels(amount_range):\n",
    "  return get_eligible_channels(amount_range)\n",
    "\n",
    "\n",
    "@lru_cache(maxsize=None)\n",
    "def get_card_types(amount_range):\n",
    "  return get_eligible_cards(amount_range)\n",
    "\n",
    "\n",
    "@lru_cache(maxsize=None)\n",
    "def get_payment_apps(city):\n",
    "  return CityPaymentApp[city]\n",
    "\n",
    "\n",
    "def get_random_weighted_element(lst):\n",
    "  weights = list(reversed(range(1, len(lst) + 1)))\n",
    "  return random.choices(lst, weights=weights)[0]"
   ]
  },
  {
   "cell_type": "code",
   "execution_count": 491,
   "metadata": {},
   "outputs": [
    {
     "data": {
      "text/plain": [
       "40096"
      ]
     },
     "execution_count": 491,
     "metadata": {},
     "output_type": "execute_result"
    },
    {
     "data": {
      "text/plain": [
       "30132"
      ]
     },
     "execution_count": 491,
     "metadata": {},
     "output_type": "execute_result"
    },
    {
     "data": {
      "text/plain": [
       "19852"
      ]
     },
     "execution_count": 491,
     "metadata": {},
     "output_type": "execute_result"
    },
    {
     "data": {
      "text/plain": [
       "9920"
      ]
     },
     "execution_count": 491,
     "metadata": {},
     "output_type": "execute_result"
    }
   ],
   "source": [
    "capable_amount_ranges = get_eligible_amount_ranges(AmountRange.MAX)\n",
    "\n",
    "test = []\n",
    "\n",
    "for _ in range(10**5):\n",
    "  test.append(get_random_weighted_element(capable_amount_ranges))\n",
    "\n",
    "test = np.array(test)\n",
    "\n",
    "(test == AmountRange.LOW).sum()\n",
    "(test == AmountRange.MEDIUM).sum()\n",
    "(test == AmountRange.HIGH).sum()\n",
    "(test == AmountRange.MAX).sum()"
   ]
  },
  {
   "cell_type": "code",
   "execution_count": 504,
   "metadata": {},
   "outputs": [
    {
     "ename": "ValueError",
     "evalue": "<AmountRange.LOW: (<Amount.INR_1k: 1000>, <Amount.INR_5k: 5000>, <Amount.INR_10k: 10000>)> is not in list",
     "output_type": "error",
     "traceback": [
      "\u001b[1;31m---------------------------------------------------------------------------\u001b[0m",
      "\u001b[1;31mValueError\u001b[0m                                Traceback (most recent call last)",
      "Cell \u001b[1;32mIn[504], line 74\u001b[0m\n\u001b[0;32m     72\u001b[0m transaction_samples \u001b[38;5;241m=\u001b[39m []\n\u001b[0;32m     73\u001b[0m \u001b[38;5;28;01mfor\u001b[39;00m customer_profile \u001b[38;5;129;01min\u001b[39;00m customer_profiles:\n\u001b[1;32m---> 74\u001b[0m   transaction_samples\u001b[38;5;241m.\u001b[39mappend(\u001b[43mgenerate_transaction_samples\u001b[49m\u001b[43m(\u001b[49m\n\u001b[0;32m     75\u001b[0m \u001b[43m      \u001b[49m\u001b[43mcustomer_profile\u001b[49m\u001b[43m,\u001b[49m\u001b[43m  \u001b[49m\u001b[38;5;28;43mint\u001b[39;49m\u001b[43m(\u001b[49m\u001b[43mstochastic_shift\u001b[49m\u001b[43m(\u001b[49m\u001b[38;5;241;43m200\u001b[39;49m\u001b[43m,\u001b[49m\u001b[43m \u001b[49m\u001b[38;5;241;43m0.5\u001b[39;49m\u001b[43m)\u001b[49m\u001b[43m)\u001b[49m\u001b[43m)\u001b[49m)\n",
      "Cell \u001b[1;32mIn[504], line 6\u001b[0m, in \u001b[0;36mgenerate_transaction_samples\u001b[1;34m(customer_profile, num_samples)\u001b[0m\n\u001b[0;32m      4\u001b[0m currency \u001b[38;5;241m=\u001b[39m get_city_currency(city)\n\u001b[0;32m      5\u001b[0m transaction_types \u001b[38;5;241m=\u001b[39m get_transaction_types()\n\u001b[1;32m----> 6\u001b[0m capable_amount_ranges \u001b[38;5;241m=\u001b[39m \u001b[43mget_eligible_amount_ranges\u001b[49m\u001b[43m(\u001b[49m\u001b[43mtransaction_capacity\u001b[49m\u001b[43m)\u001b[49m\n\u001b[0;32m      8\u001b[0m \u001b[38;5;28;01mfor\u001b[39;00m i \u001b[38;5;129;01min\u001b[39;00m \u001b[38;5;28mrange\u001b[39m(num_samples):\n\u001b[0;32m      9\u001b[0m   capable_amount_range \u001b[38;5;241m=\u001b[39m get_random_weighted_element(capable_amount_ranges)\n",
      "Cell \u001b[1;32mIn[503], line 42\u001b[0m, in \u001b[0;36mget_eligible_amount_ranges\u001b[1;34m(amount_range)\u001b[0m\n\u001b[0;32m     39\u001b[0m \u001b[38;5;129m@lru_cache\u001b[39m(maxsize\u001b[38;5;241m=\u001b[39m\u001b[38;5;28;01mNone\u001b[39;00m)\n\u001b[0;32m     40\u001b[0m \u001b[38;5;28;01mdef\u001b[39;00m \u001b[38;5;21mget_eligible_amount_ranges\u001b[39m(amount_range):\n\u001b[0;32m     41\u001b[0m   amount_ranges \u001b[38;5;241m=\u001b[39m \u001b[38;5;28mlist\u001b[39m(AmountRange)\n\u001b[1;32m---> 42\u001b[0m   max_index \u001b[38;5;241m=\u001b[39m \u001b[43mamount_ranges\u001b[49m\u001b[38;5;241;43m.\u001b[39;49m\u001b[43mindex\u001b[49m\u001b[43m(\u001b[49m\u001b[43mamount_range\u001b[49m\u001b[43m)\u001b[49m \u001b[38;5;241m+\u001b[39m \u001b[38;5;241m1\u001b[39m\n\u001b[0;32m     43\u001b[0m   eligible_ranges \u001b[38;5;241m=\u001b[39m amount_ranges[:max_index]\n\u001b[0;32m     44\u001b[0m   \u001b[38;5;28;01mreturn\u001b[39;00m eligible_ranges\n",
      "\u001b[1;31mValueError\u001b[0m: <AmountRange.LOW: (<Amount.INR_1k: 1000>, <Amount.INR_5k: 5000>, <Amount.INR_10k: 10000>)> is not in list"
     ]
    }
   ],
   "source": [
    "def generate_transaction_samples(customer_profile, num_samples):\n",
    "  city = customer_profile.city\n",
    "  transaction_capacity = customer_profile.transaction_capacity\n",
    "  currency = get_city_currency(city)\n",
    "  transaction_types = get_transaction_types()\n",
    "  capable_amount_ranges = get_eligible_amount_ranges(transaction_capacity)\n",
    "\n",
    "  for i in range(num_samples):\n",
    "    capable_amount_range = get_random_weighted_element(capable_amount_ranges)\n",
    "\n",
    "    transaction_type = get_random_weighted_element(\n",
    "        list(reversed(transaction_types)))\n",
    "\n",
    "    transaction_channel = random.choice(\n",
    "        get_eligible_channels(transaction_type, capable_amount_range, city))\n",
    "\n",
    "    payment_app = PaymentApp.NA\n",
    "    card_type = CardType.NA\n",
    "    eligible_merchant = MerchantCategory.NA\n",
    "\n",
    "    if transaction_channel is TransactionChannel.ONLINE_BANKING:\n",
    "      if random.uniform(1, 100) > 20:\n",
    "        payment_app = random.choice(CityPaymentApp[city])\n",
    "      else:\n",
    "        # print(get_eligible_cards(capable_amount_range), capable_amount_range)\n",
    "        card_type = random.choice(get_eligible_cards(capable_amount_range))\n",
    "\n",
    "    if transaction_channel is TransactionChannel.UPI:\n",
    "      payment_app = random.choice(CityPaymentApp[city])\n",
    "\n",
    "    if transaction_channel in (TransactionChannel.POS, TransactionChannel.ATM):\n",
    "      card_type = random.choice(get_eligible_cards(capable_amount_range))\n",
    "\n",
    "    if transaction_type == TransactionType.PAYMENT:\n",
    "      eligible_merchant = random.choice(\n",
    "          get_eligible_merchants(capable_amount_range))\n",
    "\n",
    "    amount = get_random_amount_within_range(capable_amount_range)\n",
    "    if amount == None:\n",
    "      amount = Amount.INR_1m\n",
    "    money_value = get_random_money_value(amount)\n",
    "\n",
    "    # print(f\"Sample {i+1}:\")\n",
    "    # print(f\"  City: {city}\")\n",
    "    # print(f\"  Transaction Capacity: {transaction_capacity}\")\n",
    "    # print(f\"  Currency: {currency}\")\n",
    "    # print(f\"  Transaction Type: {transaction_type}\")\n",
    "    # print(f\"  Transaction Channel: {transaction_channel}\")\n",
    "    # print(f\"  Payment App: {payment_app}\")\n",
    "    # print(f\"  Card Type: {card_type}\")\n",
    "    # print(f\"  Eligible Merchant: {eligible_merchant}\")\n",
    "    # print(f\"  Amount: {amount}\")\n",
    "    # print(f\"  Money Value: {money_value}\")\n",
    "    # print(\"\\n\")\n",
    "\n",
    "    transaction_dict = {\n",
    "        'city': city,\n",
    "        'transaction_capacity': transaction_capacity,\n",
    "        'currency': currency,\n",
    "        'transaction_type': transaction_type,\n",
    "        'transaction_channel': transaction_channel,\n",
    "        'payment_app': payment_app,\n",
    "        'card_type': card_type,\n",
    "        'eligible_merchant': eligible_merchant,\n",
    "        'amount': amount,\n",
    "        'money_value': money_value\n",
    "    }\n",
    "\n",
    "    return transaction_dict\n",
    "\n",
    "\n",
    "transaction_samples = []\n",
    "for customer_profile in customer_profiles:\n",
    "  transaction_samples.append(generate_transaction_samples(\n",
    "      customer_profile,  int(stochastic_shift(200, 0.5))))"
   ]
  },
  {
   "cell_type": "code",
   "execution_count": 496,
   "metadata": {},
   "outputs": [],
   "source": [
    "transaction_samples[0]"
   ]
  }
 ],
 "metadata": {
  "kernelspec": {
   "display_name": "Python 3",
   "language": "python",
   "name": "python3"
  },
  "language_info": {
   "codemirror_mode": {
    "name": "ipython",
    "version": 3
   },
   "file_extension": ".py",
   "mimetype": "text/x-python",
   "name": "python",
   "nbconvert_exporter": "python",
   "pygments_lexer": "ipython3",
   "version": "3.10.11"
  }
 },
 "nbformat": 4,
 "nbformat_minor": 2
}
