{
 "cells": [
  {
   "cell_type": "code",
   "execution_count": 5,
   "metadata": {},
   "outputs": [],
   "source": [
    "import pandas as pd\n",
    "import random\n",
    "from enum import Enum\n",
    "from datetime import datetime, timedelta"
   ]
  },
  {
   "cell_type": "code",
   "execution_count": 41,
   "metadata": {},
   "outputs": [],
   "source": [
    "class Currency(Enum):\n",
    "  USD = (\"USD\", 1.0)         # United States Dollar (USD per USD)\n",
    "  AED = (\"AED\", 0.27)        # UAE Dirham (AED per USD)\n",
    "  INR = (\"INR\", 83.31)       # Indian Rupee (INR per USD)\n",
    "  JPY = (\"JPY\", 151.62)      # Japanese Yen (JPY per USD)\n",
    "  CNY = (\"CNY\", 7.23)        # Chinese Yuan (CNY per USD)\n",
    "  SGD = (\"SGD\", 1.35)        # Singapore Dollar (SGD per USD)\n",
    "  AUD = (\"AUD\", 1.52)        # Australian Dollar (AUD per USD)\n",
    "  CAD = (\"CAD\", 1.36)        # Canadian Dollar (CAD per USD)\n",
    "  MXN = (\"MXN\", 16.46)       # Mexican Peso (MXN per USD)\n",
    "  EUR = (\"EUR\", 0.92)        # Euro (EUR per USD)\n",
    "  GBP = (\"GBP\", 0.79)        # British Pound Sterling (GBP per USD)\n",
    "  CHF = (\"CHF\", 0.90)        # Swiss Franc (CHF per USD)\n",
    "  SEK = (\"SEK\", 10.67)       # Swedish Krona (SEK per USD)"
   ]
  },
  {
   "cell_type": "code",
   "execution_count": 43,
   "metadata": {},
   "outputs": [],
   "source": [
    "class City(Enum):\n",
    "  PUNE = (\"Pune\", Currency.INR)\n",
    "  TOKYO = (\"Tokyo\", Currency.JPY)\n",
    "  DUBAI = (\"Dubai\", Currency.AED)\n",
    "  SYDNEY = (\"Sydney\", Currency.AUD)\n",
    "  SHANGHAI = (\"Shanghai\", Currency.CNY)\n",
    "  SINGAPORE = (\"Singapore\", Currency.SGD)\n",
    "  NEW_DELHI = (\"New Delhi\", Currency.INR)\n",
    "  MUMBAI = (\"Mumbai\", Currency.INR)\n",
    "  NEW_YORK = (\"New York\", Currency.USD)\n",
    "  LOS_ANGELES = (\"Los Angeles\", Currency.USD)\n",
    "  LONDON = (\"London\", Currency.GBP)\n",
    "  PARIS = (\"Paris\", Currency.EUR)\n",
    "  BERLIN = (\"Berlin\", Currency.EUR)"
   ]
  },
  {
   "cell_type": "code",
   "execution_count": 8,
   "metadata": {},
   "outputs": [],
   "source": [
    "class TransactionType(Enum):\n",
    "  WITHDRAWAL = \"Withdrawal\"  # Money withdrawn from an account\n",
    "  DEPOSIT = \"Deposit\"        # Money deposited into an account\n",
    "  TRANSFER = \"Transfer\"      # Money transferred from one account to another\n",
    "  PAYMENT = \"Payment\"        # Payment made for goods or services"
   ]
  },
  {
   "cell_type": "code",
   "execution_count": 9,
   "metadata": {},
   "outputs": [],
   "source": [
    "class TransactionChannel(Enum):\n",
    "  ATM = \"ATM\"                        # Cash withdrawals\n",
    "  ONLINE_BANKING = \"Online Banking\"  # Banking via web\n",
    "  UPI = \"UPI\"                        # Real-time payment system (India)\n",
    "  POS = \"POS\"                        # Retail transactions\n",
    "  BANK = \"Bank\"                      # Generic bank transactions"
   ]
  },
  {
   "cell_type": "code",
   "execution_count": 10,
   "metadata": {},
   "outputs": [],
   "source": [
    "class CardType(Enum):\n",
    "  CREDIT_CARD = \"Credit Card\"    # Borrow funds for purchases\n",
    "  DEBIT_CARD = \"Debit Card\"      # Deducts money from checking account\n",
    "  PREPAID_CARD = \"Prepaid Card\"  # Pre-loaded funds for purchases\n",
    "  NA = \"NA\"                      # Not Applicable/Available"
   ]
  },
  {
   "cell_type": "code",
   "execution_count": 11,
   "metadata": {},
   "outputs": [],
   "source": [
    "class PaymentApp(Enum):\n",
    "  WHATSAPP_PAY = \"WhatsApp Pay\"  # Transaction via WhatsApp Pay\n",
    "  PAYTM = \"Paytm\"                # Transaction via Paytm\n",
    "  PHONEPE = \"PhonePe\"            # Transaction via PhonePe\n",
    "  GOOGLE_PAY = \"Google Pay\"      # Transaction via Google Pay\n",
    "  ALIPAY = \"Alipay\"              # Transaction via Alipay (China)\n",
    "  WECHAT_PAY = \"WeChat Pay\"      # Transaction via WeChat Pay (China)\n",
    "  PAYPAL = \"PayPal\"              # Transaction via PayPal\n",
    "  NA = \"NA\"                      # Not Applicable/Available"
   ]
  },
  {
   "cell_type": "code",
   "execution_count": null,
   "metadata": {},
   "outputs": [],
   "source": [
    "class Amount(Enum):\n",
    "  INR_1k = 1000\n",
    "  INR_5k = 5000\n",
    "  INR_10k = 10_000\n",
    "  INR_50k = 50_000\n",
    "  INR_100k = 100_000\n",
    "  INR_500k = 500_000\n",
    "  INR_1m = 1_000_000\n",
    "  INR_5m = 5_000_000\n",
    "  INR_10m = 10_000_000\n",
    "\n",
    "\n",
    "class AmountRange(Enum):\n",
    "  LOW = (Amount.INR_1k, Amount.INR_5k, Amount.INR_10k)\n",
    "  MEDIUM = (Amount.INR_10k, Amount.INR_50k, Amount.INR_100k)\n",
    "  HIGH = (Amount.INR_100k, Amount.INR_500k, Amount.INR_1m)\n",
    "  MAX = (Amount.INR_1m, Amount.INR_5m, Amount.INR_10m)"
   ]
  },
  {
   "cell_type": "code",
   "execution_count": 84,
   "metadata": {},
   "outputs": [],
   "source": [
    "class MerchantCategory(Enum):\n",
    "  RETAIL = \"Retail\"                       # Physical goods\n",
    "  ONLINE_SERVICES = \"Online Services\"     # Online services\n",
    "  ECOMMERCE = \"E-commerce\"                # Online marketplaces\n",
    "  DINING = \"Dining\"                       # Restaurants and cafes\n",
    "  ENTERTAINMENT = \"Entertainment\"         # Venues for entertainment\n",
    "  TRANSPORT = \"Transport\"                 # Transportation services\n",
    "  HEALTHCARE = \"Healthcare\"               # Healthcare services\n",
    "  TRAVEL = \"Travel\"                       # Travel agencies\n",
    "  EDUCATION = \"Education\"                 # Educational services\n",
    "  FINANCIAL = \"Financial\"                 # Financial institutions\n",
    "  REAL_ESTATE = \"Real Estate\"             # Real estate services\n",
    "  NA = \"NA\"                               # Not Applicable/Available\n",
    "  OTHERS = \"Others\"                       # Other merchant categories"
   ]
  },
  {
   "cell_type": "code",
   "execution_count": 63,
   "metadata": {},
   "outputs": [],
   "source": [
    "df = pd.DataFrame({\n",
    "    'timestamp': [],             # Date and time of transaction\n",
    "    'transaction_id': [],        # Unique identifier for each transaction\n",
    "    'account_id': [],            # Unique identifier for the bank account\n",
    "    'amount': [],                # Monetary value of the transaction\n",
    "    'currency': [],              # Currency of the transaction\n",
    "    'city': [],                  # City where the transaction occurred\n",
    "    'transaction_type': [],      # Nature or category of the transaction\n",
    "    'transaction_channel': [],   # Channel through which the transaction was made\n",
    "    'card_type': [],             # Type of card used for the transaction\n",
    "    'payment_app': [],           # Payment app used for the transaction\n",
    "    'merchant_id': [],           # Unique identifier for the merchant\n",
    "    'merchant_category': [],     # Category of the merchant\n",
    "})"
   ]
  },
  {
   "cell_type": "code",
   "execution_count": 49,
   "metadata": {},
   "outputs": [],
   "source": [
    "class TransactionProfile:\n",
    "  def __init__(self, city, currency, amount_range_start, amount_range_end, transaction_type, transaction_channel, card_type, payment_app, merchant_category):\n",
    "    self.city = city\n",
    "    self.currency = currency\n",
    "    self.amount_range_start = amount_range_start\n",
    "    self.amount_range_end = amount_range_end\n",
    "    self.transaction_type = transaction_type\n",
    "    self.transaction_channel = transaction_channel\n",
    "    self.card_type = card_type\n",
    "    self.payment_app = payment_app\n",
    "    self.merchant_category = merchant_category"
   ]
  }
 ],
 "metadata": {
  "kernelspec": {
   "display_name": "Python 3",
   "language": "python",
   "name": "python3"
  },
  "language_info": {
   "codemirror_mode": {
    "name": "ipython",
    "version": 3
   },
   "file_extension": ".py",
   "mimetype": "text/x-python",
   "name": "python",
   "nbconvert_exporter": "python",
   "pygments_lexer": "ipython3",
   "version": "3.10.11"
  }
 },
 "nbformat": 4,
 "nbformat_minor": 2
}
