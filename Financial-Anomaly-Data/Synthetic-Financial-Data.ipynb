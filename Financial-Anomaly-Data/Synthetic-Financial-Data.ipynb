{
 "cells": [
  {
   "cell_type": "code",
   "execution_count": 1,
   "metadata": {},
   "outputs": [],
   "source": [
    "import pandas as pd\n",
    "import random\n",
    "from enum import Enum\n",
    "from datetime import datetime, timedelta"
   ]
  },
  {
   "cell_type": "code",
   "execution_count": 2,
   "metadata": {},
   "outputs": [],
   "source": [
    "class City(Enum):\n",
    "  PUNE = \"Pune\"\n",
    "  TOKYO = \"Tokyo\"\n",
    "  DUBAI = \"Dubai\"\n",
    "  SYDNEY = \"Sydney\"\n",
    "  SHANGHAI = \"Shanghai\"\n",
    "  SINGAPORE = \"Singapore\"\n",
    "  NEW_DELHI = \"New Delhi\"\n",
    "  MUMBAI = \"Mumbai\"\n",
    "  NEW_YORK = \"New York\"\n",
    "  LOS_ANGELES = \"Los Angeles\"\n",
    "  LONDON = \"London\"\n",
    "  PARIS = \"Paris\"\n",
    "  BERLIN = \"Berlin\""
   ]
  },
  {
   "cell_type": "code",
   "execution_count": 3,
   "metadata": {},
   "outputs": [],
   "source": [
    "class Currency(Enum):\n",
    "  USD = \"USD\"  # United States Dollar\n",
    "  JPY = \"JPY\"  # Japanese Yen\n",
    "  CNY = \"CNY\"  # Chinese Yuan\n",
    "  SGD = \"SGD\"  # Singapore Dollar\n",
    "  INR = \"INR\"  # Indian Rupee\n",
    "  AUD = \"AUD\"  # Australian Dollar\n",
    "  CAD = \"CAD\"  # Canadian Dollar\n",
    "  MXN = \"MXN\"  # Mexican Peso\n",
    "  EUR = \"EUR\"  # Euro\n",
    "  GBP = \"GBP\"  # British Pound Sterling\n",
    "  CHF = \"CHF\"  # Swiss Franc\n",
    "  SEK = \"SEK\"  # Swedish Krona"
   ]
  },
  {
   "cell_type": "code",
   "execution_count": 4,
   "metadata": {},
   "outputs": [],
   "source": [
    "class TransactionType(Enum):\n",
    "  WITHDRAWAL = \"Withdrawal\"  # Money withdrawn from an account\n",
    "  DEPOSIT = \"Deposit\"        # Money deposited into an account\n",
    "  TRANSFER = \"Transfer\"      # Money transferred from one account to another\n",
    "  PAYMENT = \"Payment\"        # Payment made for goods or services"
   ]
  },
  {
   "cell_type": "code",
   "execution_count": 5,
   "metadata": {},
   "outputs": [],
   "source": [
    "class TransactionChannel(Enum):\n",
    "  ATM = \"ATM\"                        # Cash withdrawals\n",
    "  ONLINE_BANKING = \"Online Banking\"  # Banking via web\n",
    "  UPI = \"UPI\"                        # Real-time payment system (India)\n",
    "  POS = \"POS\"                        # Retail transactions\n",
    "  BANK = \"Bank\"                      # Generic bank transactions"
   ]
  },
  {
   "cell_type": "code",
   "execution_count": 6,
   "metadata": {},
   "outputs": [],
   "source": [
    "class CardType(Enum):\n",
    "  CREDIT_CARD = \"Credit Card\"    # Borrow funds for purchases\n",
    "  DEBIT_CARD = \"Debit Card\"      # Deducts money from checking account\n",
    "  PREPAID_CARD = \"Prepaid Card\"  # Pre-loaded funds for purchases\n",
    "  NA = \"NA\"                      # Not Applicable/Available"
   ]
  },
  {
   "cell_type": "code",
   "execution_count": 7,
   "metadata": {},
   "outputs": [],
   "source": [
    "class PaymentApp(Enum):\n",
    "  WHATSAPP_PAY = \"WhatsApp Pay\"  # Transaction via WhatsApp Pay\n",
    "  PAYTM = \"Paytm\"                # Transaction via Paytm\n",
    "  PHONEPE = \"PhonePe\"            # Transaction via PhonePe\n",
    "  GOOGLE_PAY = \"Google Pay\"      # Transaction via Google Pay\n",
    "  ALIPAY = \"Alipay\"              # Transaction via Alipay (China)\n",
    "  WECHAT_PAY = \"WeChat Pay\"      # Transaction via WeChat Pay (China)\n",
    "  PAYPAL = \"PayPal\"              # Transaction via PayPal\n",
    "  NA = \"NA\"                      # Not Applicable/Available"
   ]
  },
  {
   "cell_type": "code",
   "execution_count": 8,
   "metadata": {},
   "outputs": [],
   "source": [
    "class MerchantCategory(Enum):\n",
    "  RETAIL = \"Retail\"                     # Physical goods\n",
    "  ONLINE_SERVICES = \"Online Services\"   # Online services\n",
    "  ECOMMERCE = \"E-commerce\"              # Online marketplaces\n",
    "  DINING = \"Dining\"                     # Restaurants and cafes\n",
    "  ENTERTAINMENT = \"Entertainment\"       # Venues for entertainment\n",
    "  TRANSPORT = \"Transport\"               # Transportation services\n",
    "  HEALTHCARE = \"Healthcare\"             # Healthcare services\n",
    "  TRAVEL = \"Travel\"                     # Travel agencies\n",
    "  EDUCATION = \"Education\"               # Educational services\n",
    "  FINANCIAL = \"Financial\"               # Financial institutions\n",
    "  NA = \"NA\"                             # Not Applicable/Available\n",
    "  OTHERS = \"Others\"                     # Other merchant categories"
   ]
  },
  {
   "cell_type": "code",
   "execution_count": 9,
   "metadata": {},
   "outputs": [],
   "source": [
    "class PaymentStatus(Enum):\n",
    "  DONE = \"Done\"\n",
    "  DECLINED = \"Declined\""
   ]
  },
  {
   "cell_type": "code",
   "execution_count": 10,
   "metadata": {},
   "outputs": [],
   "source": [
    "df = pd.DataFrame({\n",
    "    'timestamp': [],             # Date and time of transaction\n",
    "    'transaction_id': [],        # Unique identifier for each transaction\n",
    "    'account_id': [],            # Unique identifier for the bank account\n",
    "    'amount': [],                # Monetary value of the transaction\n",
    "    'currency': [],              # Currency of the transaction\n",
    "    'city': [],                  # City where the transaction occurred\n",
    "    'transaction_type': [],      # Nature or category of the transaction\n",
    "    'transaction_channel': [],   # Channel through which the transaction was made\n",
    "    'card_type': [],             # Type of card used for the transaction\n",
    "    'payment_app': [],           # Payment app used for the transaction\n",
    "    'merchant_id': [],           # Unique identifier for the merchant\n",
    "    'merchant_category': [],     # Category of the merchant\n",
    "    'payment_status': [],        # Status of the payment (done or declined)\n",
    "})"
   ]
  },
  {
   "cell_type": "code",
   "execution_count": 27,
   "metadata": {},
   "outputs": [
    {
     "data": {
      "text/plain": [
       "datetime.datetime(2024, 4, 5, 21, 31, 5, 237963)"
      ]
     },
     "execution_count": 27,
     "metadata": {},
     "output_type": "execute_result"
    },
    {
     "name": "stdout",
     "output_type": "stream",
     "text": [
      "2024-04-05 21:31:05.237963\n"
     ]
    },
    {
     "data": {
      "text/plain": [
       "'2024-04-11 16:43:56'"
      ]
     },
     "execution_count": 27,
     "metadata": {},
     "output_type": "execute_result"
    }
   ],
   "source": [
    "last_timestamp = datetime.now()\n",
    "\n",
    "last_timestamp\n",
    "print(last_timestamp)\n",
    "\n",
    "\n",
    "def get_timestamp():\n",
    "  global last_timestamp\n",
    "  random_seconds = random.randint(0, 10)\n",
    "  timestamp = last_timestamp + timedelta(seconds=random_seconds)\n",
    "  last_timestamp = timestamp\n",
    "  return timestamp\n",
    "\n",
    "\n",
    "for i in range(10**5):\n",
    "  _ = get_timestamp()\n",
    "\n",
    "_.strftime(\"%Y-%m-%d %H:%M:%S\")"
   ]
  }
 ],
 "metadata": {
  "kernelspec": {
   "display_name": "Python 3",
   "language": "python",
   "name": "python3"
  },
  "language_info": {
   "codemirror_mode": {
    "name": "ipython",
    "version": 3
   },
   "file_extension": ".py",
   "mimetype": "text/x-python",
   "name": "python",
   "nbconvert_exporter": "python",
   "pygments_lexer": "ipython3",
   "version": "3.10.11"
  }
 },
 "nbformat": 4,
 "nbformat_minor": 2
}
