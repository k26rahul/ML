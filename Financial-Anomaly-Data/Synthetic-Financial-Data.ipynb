{
 "cells": [
  {
   "cell_type": "code",
   "execution_count": 2,
   "metadata": {},
   "outputs": [],
   "source": [
    "import numpy as np\n",
    "import pandas as pd\n",
    "import random\n",
    "from enum import Enum\n",
    "from datetime import datetime, timedelta"
   ]
  },
  {
   "cell_type": "code",
   "execution_count": 3,
   "metadata": {},
   "outputs": [],
   "source": [
    "class Currency(Enum):\n",
    "  USD = (\"USD\", 1.0)         # United States Dollar (USD per USD)\n",
    "  AED = (\"AED\", 0.27)        # UAE Dirham (AED per USD)\n",
    "  INR = (\"INR\", 83.31)       # Indian Rupee (INR per USD)\n",
    "  JPY = (\"JPY\", 151.62)      # Japanese Yen (JPY per USD)\n",
    "  CNY = (\"CNY\", 7.23)        # Chinese Yuan (CNY per USD)\n",
    "  SGD = (\"SGD\", 1.35)        # Singapore Dollar (SGD per USD)\n",
    "  AUD = (\"AUD\", 1.52)        # Australian Dollar (AUD per USD)\n",
    "  CAD = (\"CAD\", 1.36)        # Canadian Dollar (CAD per USD)\n",
    "  MXN = (\"MXN\", 16.46)       # Mexican Peso (MXN per USD)\n",
    "  EUR = (\"EUR\", 0.92)        # Euro (EUR per USD)\n",
    "  GBP = (\"GBP\", 0.79)        # British Pound Sterling (GBP per USD)\n",
    "  CHF = (\"CHF\", 0.90)        # Swiss Franc (CHF per USD)\n",
    "  SEK = (\"SEK\", 10.67)       # Swedish Krona (SEK per USD)"
   ]
  },
  {
   "cell_type": "code",
   "execution_count": 68,
   "metadata": {},
   "outputs": [],
   "source": [
    "class City(Enum):\n",
    "  PUNE = \"Pune\"\n",
    "  TOKYO = \"Tokyo\"\n",
    "  DUBAI = \"Dubai\"\n",
    "  SYDNEY = \"Sydney\"\n",
    "  SHANGHAI = \"Shanghai\"\n",
    "  SINGAPORE = \"Singapore\"\n",
    "  NEW_DELHI = \"New Delhi\"\n",
    "  MUMBAI = \"Mumbai\"\n",
    "  NEW_YORK = \"New York\"\n",
    "  LOS_ANGELES = \"Los Angeles\"\n",
    "  LONDON = \"London\"\n",
    "  PARIS = \"Paris\"\n",
    "  BERLIN = \"Berlin\"\n",
    "\n",
    "\n",
    "class CityCurrency(Enum):\n",
    "  PUNE = Currency.INR\n",
    "  TOKYO = Currency.JPY\n",
    "  DUBAI = Currency.AED\n",
    "  SYDNEY = Currency.AUD\n",
    "  SHANGHAI = Currency.CNY\n",
    "  SINGAPORE = Currency.SGD\n",
    "  NEW_DELHI = Currency.INR\n",
    "  MUMBAI = Currency.INR\n",
    "  NEW_YORK = Currency.USD\n",
    "  LOS_ANGELES = Currency.USD\n",
    "  LONDON = Currency.GBP\n",
    "  PARIS = Currency.EUR\n",
    "  BERLIN = Currency.EUR"
   ]
  },
  {
   "cell_type": "code",
   "execution_count": 70,
   "metadata": {},
   "outputs": [
    {
     "data": {
      "text/plain": [
       "<CityCurrency.PUNE: <Currency.INR: ('INR', 83.31)>>"
      ]
     },
     "execution_count": 70,
     "metadata": {},
     "output_type": "execute_result"
    },
    {
     "data": {
      "text/plain": [
       "<CityCurrency.PUNE: <Currency.INR: ('INR', 83.31)>>"
      ]
     },
     "execution_count": 70,
     "metadata": {},
     "output_type": "execute_result"
    }
   ],
   "source": [
    "CityCurrency.PUNE\n",
    "CityCurrency.MUMBAI"
   ]
  },
  {
   "cell_type": "code",
   "execution_count": 5,
   "metadata": {},
   "outputs": [],
   "source": [
    "class Amount(Enum):\n",
    "  INR_1k = 1000\n",
    "  INR_5k = 5000\n",
    "  INR_10k = 10_000\n",
    "  INR_50k = 50_000\n",
    "  INR_100k = 100_000\n",
    "  INR_500k = 500_000\n",
    "  INR_1m = 1_000_000\n",
    "  INR_5m = 5_000_000\n",
    "  INR_10m = 10_000_000\n",
    "\n",
    "\n",
    "class AmountRange(Enum):\n",
    "  LOW = (Amount.INR_1k, Amount.INR_5k, Amount.INR_10k)\n",
    "  MEDIUM = (Amount.INR_10k, Amount.INR_50k, Amount.INR_100k)\n",
    "  HIGH = (Amount.INR_100k, Amount.INR_500k, Amount.INR_1m)\n",
    "  MAX = (Amount.INR_1m, Amount.INR_5m, Amount.INR_10m, None)\n",
    "\n",
    "\n",
    "def get_eligible_ranges(amount_range):\n",
    "  amount_ranges = list(AmountRange)\n",
    "  max_index = amount_ranges.index(amount_range) + 1\n",
    "  eligible_ranges = amount_ranges[:max_index]\n",
    "  return eligible_ranges\n",
    "\n",
    "\n",
    "def compare_amount_range(service_range, my_range):\n",
    "  eligible_ranges = get_eligible_ranges(my_range)\n",
    "  if service_range in eligible_ranges:\n",
    "    return True\n",
    "  else:\n",
    "    return False\n",
    "\n",
    "\n",
    "def get_random_amount_within_range(amount_range: AmountRange):\n",
    "  return random.choice(amount_range.value)"
   ]
  },
  {
   "cell_type": "code",
   "execution_count": 6,
   "metadata": {},
   "outputs": [],
   "source": [
    "class TransactionType(Enum):\n",
    "  WITHDRAWAL = \"Withdrawal\"  # Money withdrawn from an account\n",
    "  DEPOSIT = \"Deposit\"        # Money deposited into an account\n",
    "  TRANSFER = \"Transfer\"      # Money transferred from one account to another\n",
    "  PAYMENT = \"Payment\"        # Payment made for goods or services"
   ]
  },
  {
   "cell_type": "code",
   "execution_count": 41,
   "metadata": {},
   "outputs": [
    {
     "name": "stdout",
     "output_type": "stream",
     "text": [
      "TransactionChannelMaxAmount.ATM\n",
      "TransactionChannelMaxAmount.ONLINE_BANKING\n",
      "TransactionChannelMaxAmount.BANK\n"
     ]
    }
   ],
   "source": [
    "class TransactionChannel(Enum):\n",
    "  ATM = \"ATM\"                        # Cash withdrawals\n",
    "  ONLINE_BANKING = \"Online Banking\"  # Banking via web\n",
    "  UPI = \"UPI\"                        # Real-time payment system (India)\n",
    "  POS = \"POS\"                        # Retail transactions\n",
    "  BANK = \"Bank\"                      # Generic bank transactions\n",
    "\n",
    "\n",
    "class TransactionChannelMaxAmount(Enum):\n",
    "  ATM = AmountRange.MEDIUM\n",
    "  ONLINE_BANKING = AmountRange.HIGH\n",
    "  UPI = AmountRange.MEDIUM\n",
    "  POS = AmountRange.HIGH\n",
    "  BANK = AmountRange.MAX\n",
    "\n",
    "\n",
    "def get_eligible_channels(amount_range: AmountRange):\n",
    "  # eligible_channels = [channel for channel in list(TransactionChannelMaxAmount) if compare_amount_range(\n",
    "  #     amount_range, TransactionChannelMaxAmount[channel.name].value)]\n",
    "  # return eligible_channels\n",
    "  for channel in list(TransactionChannelMaxAmount):\n",
    "    print(channel)\n",
    "\n",
    "\n",
    "# get_eligible_channels(AmountRange.MAX)\n",
    "get_eligible_channels(AmountRange.HIGH)"
   ]
  },
  {
   "cell_type": "code",
   "execution_count": 65,
   "metadata": {},
   "outputs": [
    {
     "data": {
      "text/plain": [
       "<TransactionChannelMaxAmount.ATM: <AmountRange.MEDIUM: (<Amount.INR_10k: 10000>, <Amount.INR_50k: 50000>, <Amount.INR_100k: 100000>)>>"
      ]
     },
     "execution_count": 65,
     "metadata": {},
     "output_type": "execute_result"
    }
   ],
   "source": [
    "class TransactionChannelMaxAmount(Enum):\n",
    "  ATM = (AmountRange.MEDIUM)\n",
    "  ONLINE_BANKING = (AmountRange.HIGH)\n",
    "  UPI = (AmountRange.MEDIUM)\n",
    "  POS = (AmountRange.HIGH)\n",
    "  BANK = (AmountRange.MAX)\n",
    "\n",
    "\n",
    "TransactionChannelMaxAmount.UPI"
   ]
  },
  {
   "cell_type": "code",
   "execution_count": 47,
   "metadata": {},
   "outputs": [
    {
     "data": {
      "text/plain": [
       "<TransactionChannelMaxAmount.ONLINE_BANKING: <AmountRange.HIGH: (<Amount.INR_100k: 100000>, <Amount.INR_500k: 500000>, <Amount.INR_1m: 1000000>)>>"
      ]
     },
     "execution_count": 47,
     "metadata": {},
     "output_type": "execute_result"
    }
   ],
   "source": [
    "TransactionChannelMaxAmount.POS"
   ]
  },
  {
   "cell_type": "code",
   "execution_count": 34,
   "metadata": {},
   "outputs": [
    {
     "data": {
      "text/plain": [
       "[<TransactionChannelMaxAmount.ATM: <AmountRange.MEDIUM: (<Amount.INR_10k: 10000>, <Amount.INR_50k: 50000>, <Amount.INR_100k: 100000>)>>,\n",
       " <TransactionChannelMaxAmount.ONLINE_BANKING: <AmountRange.HIGH: (<Amount.INR_100k: 100000>, <Amount.INR_500k: 500000>, <Amount.INR_1m: 1000000>)>>,\n",
       " <TransactionChannelMaxAmount.BANK: <AmountRange.MAX: (<Amount.INR_1m: 1000000>, <Amount.INR_5m: 5000000>, <Amount.INR_10m: 10000000>, None)>>]"
      ]
     },
     "execution_count": 34,
     "metadata": {},
     "output_type": "execute_result"
    }
   ],
   "source": [
    "list(TransactionChannelMaxAmount)"
   ]
  },
  {
   "cell_type": "code",
   "execution_count": 25,
   "metadata": {},
   "outputs": [
    {
     "data": {
      "text/plain": [
       "True"
      ]
     },
     "execution_count": 25,
     "metadata": {},
     "output_type": "execute_result"
    }
   ],
   "source": [
    "compare_amount_range(AmountRange.HIGH, AmountRange.HIGH)"
   ]
  },
  {
   "cell_type": "code",
   "execution_count": 8,
   "metadata": {},
   "outputs": [],
   "source": [
    "class CardType(Enum):\n",
    "  CREDIT_CARD = \"Credit Card\"    # Borrow funds for purchases\n",
    "  DEBIT_CARD = \"Debit Card\"      # Deducts money from checking account\n",
    "  PREPAID_CARD = \"Prepaid Card\"  # Pre-loaded funds for purchases\n",
    "  NA = \"NA\"                      # Not Applicable/Available\n",
    "\n",
    "\n",
    "class CardTypeMaxAmount(Enum):\n",
    "  CREDIT_CARD = AmountRange.MEDIUM\n",
    "  DEBIT_CARD = AmountRange.MEDIUM\n",
    "  PREPAID_CARD = AmountRange.LOW\n",
    "  NA = AmountRange.LOW"
   ]
  },
  {
   "cell_type": "code",
   "execution_count": 9,
   "metadata": {},
   "outputs": [],
   "source": [
    "class PaymentApp(Enum):\n",
    "  WHATSAPP_PAY = \"WhatsApp Pay\"  # Transaction via WhatsApp Pay\n",
    "  PAYTM = \"Paytm\"                # Transaction via Paytm\n",
    "  PHONEPE = \"PhonePe\"            # Transaction via PhonePe\n",
    "  GOOGLE_PAY = \"Google Pay\"      # Transaction via Google Pay\n",
    "  ALIPAY = \"Alipay\"              # Transaction via Alipay (China)\n",
    "  WECHAT_PAY = \"WeChat Pay\"      # Transaction via WeChat Pay (China)\n",
    "  PAYPAL = \"PayPal\"              # Transaction via PayPal\n",
    "  NA = \"NA\"                      # Not Applicable/Available\n",
    "\n",
    "\n",
    "class PaymentAppMaxAmount(Enum):\n",
    "  WHATSAPP_PAY = AmountRange.LOW\n",
    "  PAYTM = AmountRange.MEDIUM\n",
    "  PHONEPE = AmountRange.MEDIUM\n",
    "  GOOGLE_PAY = AmountRange.MEDIUM\n",
    "  ALIPAY = AmountRange.MEDIUM\n",
    "  WECHAT_PAY = AmountRange.MEDIUM\n",
    "  PAYPAL = AmountRange.MEDIUM\n",
    "  NA = AmountRange.MEDIUM\n",
    "\n",
    "\n",
    "class PaymentAppCategory(Enum):\n",
    "  CHINESE_APPS = [PaymentApp.ALIPAY, PaymentApp.WECHAT_PAY]\n",
    "  UPI_APPS = [PaymentApp.WHATSAPP_PAY, PaymentApp.PHONEPE, PaymentApp.PAYTM]\n",
    "  GLOBAL_APPS = [PaymentApp.GOOGLE_PAY, PaymentApp.PAYPAL]\n",
    "\n",
    "\n",
    "class CityPaymentApp(Enum):\n",
    "  PUNE = [PaymentAppCategory.UPI_APPS, PaymentAppCategory.GLOBAL_APPS]\n",
    "  TOKYO = [PaymentAppCategory.CHINESE_APPS, PaymentAppCategory.GLOBAL_APPS]\n",
    "  DUBAI = [PaymentAppCategory.GLOBAL_APPS]\n",
    "  SYDNEY = [PaymentAppCategory.GLOBAL_APPS]\n",
    "  SHANGHAI = [PaymentAppCategory.CHINESE_APPS,\n",
    "              PaymentAppCategory.GLOBAL_APPS]\n",
    "  SINGAPORE = [PaymentAppCategory.GLOBAL_APPS]\n",
    "  NEW_DELHI = [PaymentAppCategory.UPI_APPS, PaymentAppCategory.GLOBAL_APPS]\n",
    "  MUMBAI = [PaymentAppCategory.UPI_APPS, PaymentAppCategory.GLOBAL_APPS]\n",
    "  NEW_YORK = [PaymentAppCategory.GLOBAL_APPS]\n",
    "  LOS_ANGELES = [PaymentAppCategory.GLOBAL_APPS]\n",
    "  LONDON = [PaymentAppCategory.GLOBAL_APPS]\n",
    "  PARIS = [PaymentAppCategory.GLOBAL_APPS]\n",
    "  BERLIN = [PaymentAppCategory.GLOBAL_APPS]"
   ]
  },
  {
   "cell_type": "code",
   "execution_count": 10,
   "metadata": {},
   "outputs": [],
   "source": [
    "class MerchantCategory(Enum):\n",
    "  RETAIL = \"Retail\"                       # Physical goods\n",
    "  ONLINE_SERVICES = \"Online Services\"     # Online services\n",
    "  ECOMMERCE = \"E-commerce\"                # Online marketplaces\n",
    "  DINING = \"Dining\"                       # Restaurants and cafes\n",
    "  ENTERTAINMENT = \"Entertainment\"         # Venues for entertainment\n",
    "  TRANSPORT = \"Transport\"                 # Transportation services\n",
    "  HEALTHCARE = \"Healthcare\"               # Healthcare services\n",
    "  TRAVEL = \"Travel\"                       # Travel agencies\n",
    "  EDUCATION = \"Education\"                 # Educational services\n",
    "  FINANCIAL = \"Financial\"                 # Financial institutions\n",
    "  REAL_ESTATE = \"Real Estate\"             # Real estate services\n",
    "  NA = \"NA\"                               # Not Applicable/Available\n",
    "  OTHERS = \"Others\"                       # Other merchant categories\n",
    "\n",
    "\n",
    "class MerchantAmountRange(Enum):\n",
    "  RETAIL = (AmountRange.LOW, AmountRange.MEDIUM)\n",
    "  ONLINE_SERVICES = (AmountRange.LOW, AmountRange.MEDIUM)\n",
    "  ECOMMERCE = (AmountRange.LOW, AmountRange.MEDIUM)\n",
    "  DINING = (AmountRange.LOW, AmountRange.MEDIUM)\n",
    "  ENTERTAINMENT = (AmountRange.LOW, AmountRange.MEDIUM)\n",
    "  TRANSPORT = (AmountRange.LOW, AmountRange.MEDIUM)\n",
    "  TRAVEL = (AmountRange.LOW, AmountRange.MEDIUM)\n",
    "  HEALTHCARE = (AmountRange.LOW, AmountRange.HIGH)\n",
    "  EDUCATION = (AmountRange.LOW, AmountRange.HIGH)\n",
    "  FINANCIAL = (AmountRange.MEDIUM, AmountRange.MAX)\n",
    "  REAL_ESTATE = (AmountRange.HIGH, AmountRange.MAX)\n",
    "  NA = (None, None)\n",
    "  OTHERS = (None, None)"
   ]
  },
  {
   "cell_type": "code",
   "execution_count": 11,
   "metadata": {},
   "outputs": [],
   "source": [
    "df = pd.DataFrame({\n",
    "    'timestamp': [],             # Date and time of transaction\n",
    "    'transaction_id': [],        # Unique identifier for each transaction\n",
    "    'account_id': [],            # Unique identifier for the bank account\n",
    "    'amount': [],                # Monetary value of the transaction\n",
    "    'currency': [],              # Currency of the transaction\n",
    "    'city': [],                  # City where the transaction occurred\n",
    "    'transaction_type': [],      # Nature or category of the transaction\n",
    "    'transaction_channel': [],   # Channel through which the transaction was made\n",
    "    'card_type': [],             # Type of card used for the transaction\n",
    "    'payment_app': [],           # Payment app used for the transaction\n",
    "    'merchant_id': [],           # Unique identifier for the merchant\n",
    "    'merchant_category': [],     # Category of the merchant\n",
    "})"
   ]
  },
  {
   "cell_type": "code",
   "execution_count": 12,
   "metadata": {},
   "outputs": [
    {
     "data": {
      "text/plain": [
       "106.60174242720143"
      ]
     },
     "execution_count": 12,
     "metadata": {},
     "output_type": "execute_result"
    }
   ],
   "source": [
    "def stochastic_shift(base, variance):\n",
    "  return base + base * random.uniform(-variance, +variance)\n",
    "\n",
    "\n",
    "stochastic_shift(100, 0.1)"
   ]
  },
  {
   "cell_type": "code",
   "execution_count": 13,
   "metadata": {},
   "outputs": [
    {
     "data": {
      "text/plain": [
       "[103.4171225780148,\n",
       " 108.01376485141223,\n",
       " 91.38763223373245,\n",
       " 91.41006935654161,\n",
       " 97.74382068960556,\n",
       " 107.10651433237443,\n",
       " 105.78913967997282,\n",
       " 102.45735303855994,\n",
       " 102.49066970505855,\n",
       " 96.72063294656294]"
      ]
     },
     "execution_count": 13,
     "metadata": {},
     "output_type": "execute_result"
    }
   ],
   "source": [
    "def variance_split(total, num_parts, variance):\n",
    "  base_each = total / num_parts\n",
    "  final_parts = [stochastic_shift(base=base_each, variance=variance)\n",
    "                 for _ in range(num_parts)]\n",
    "  return final_parts\n",
    "\n",
    "\n",
    "variance_split(1000, 10, 0.1)"
   ]
  },
  {
   "cell_type": "code",
   "execution_count": 14,
   "metadata": {},
   "outputs": [
    {
     "data": {
      "text/plain": [
       "12.003360941063498"
      ]
     },
     "execution_count": 14,
     "metadata": {},
     "output_type": "execute_result"
    },
    {
     "data": {
      "text/plain": [
       "11.043092065778419"
      ]
     },
     "execution_count": 14,
     "metadata": {},
     "output_type": "execute_result"
    },
    {
     "data": {
      "text/plain": [
       "1819.9495858840476"
      ]
     },
     "execution_count": 14,
     "metadata": {},
     "output_type": "execute_result"
    }
   ],
   "source": [
    "def inr_to_currency(inr_amount, to_currency):\n",
    "  usd_amount = inr_amount / Currency.INR.value[1]\n",
    "  converted_amount = usd_amount * to_currency.value[1]\n",
    "  return converted_amount\n",
    "\n",
    "\n",
    "inr_to_currency(1000, Currency.USD)\n",
    "inr_to_currency(1000, Currency.EUR)\n",
    "inr_to_currency(1000, Currency.JPY)"
   ]
  },
  {
   "cell_type": "code",
   "execution_count": 15,
   "metadata": {},
   "outputs": [],
   "source": [
    "def print_object(obj):\n",
    "  class_name = obj.__class__.__name__\n",
    "  attributes = \", \".join(\n",
    "      [f\"{key}={value}\" for key, value in obj.__dict__.items()])\n",
    "  print(f\"{class_name}({attributes})\")"
   ]
  },
  {
   "cell_type": "code",
   "execution_count": 16,
   "metadata": {},
   "outputs": [],
   "source": [
    "class CustomerProfile:\n",
    "  def __init__(self, city, transaction_capacity):\n",
    "    self.city = city\n",
    "    self.transaction_capacity = transaction_capacity"
   ]
  },
  {
   "cell_type": "code",
   "execution_count": 17,
   "metadata": {},
   "outputs": [
    {
     "data": {
      "text/plain": [
       "5200"
      ]
     },
     "execution_count": 17,
     "metadata": {},
     "output_type": "execute_result"
    },
    {
     "data": {
      "text/plain": [
       "5128"
      ]
     },
     "execution_count": 17,
     "metadata": {},
     "output_type": "execute_result"
    },
    {
     "name": "stdout",
     "output_type": "stream",
     "text": [
      "CustomerProfile(city=City.PUNE, transaction_capacity=AmountRange.LOW)\n"
     ]
    }
   ],
   "source": [
    "customer_profiles = []\n",
    "\n",
    "for city in City:\n",
    "  for amount_range in AmountRange:\n",
    "    for _ in range(int(stochastic_shift(100, 0.1))):\n",
    "      customer_profiles.append(CustomerProfile(city, amount_range))\n",
    "\n",
    "len(City) * len(AmountRange) * 100\n",
    "len(customer_profiles)\n",
    "print_object(customer_profiles[0])"
   ]
  },
  {
   "cell_type": "code",
   "execution_count": 18,
   "metadata": {},
   "outputs": [],
   "source": [
    "class TransactionProfile:\n",
    "  def __init__(self, city, currency, amount_range_start, amount_range_end, transaction_type, transaction_channel, card_type, payment_app, merchant_category):\n",
    "    self.city = city\n",
    "    self.currency = currency\n",
    "    self.amount_range_start = amount_range_start\n",
    "    self.amount_range_end = amount_range_end\n",
    "    self.transaction_type = transaction_type\n",
    "    self.transaction_channel = transaction_channel\n",
    "    self.card_type = card_type\n",
    "    self.payment_app = payment_app\n",
    "    self.merchant_category = merchant_category"
   ]
  },
  {
   "cell_type": "code",
   "execution_count": 19,
   "metadata": {},
   "outputs": [],
   "source": [
    "from itertools import chain\n",
    "\n",
    "\n",
    "def get_city_currency(city):\n",
    "  return CityCurrency[city.name]\n",
    "\n",
    "\n",
    "def get_transaction_types():\n",
    "  return list(TransactionType)\n",
    "\n",
    "\n",
    "def get_transaction_channels():\n",
    "  return list(TransactionChannel)\n",
    "\n",
    "\n",
    "def get_card_types():\n",
    "  return list(CardType)\n",
    "\n",
    "\n",
    "def get_payment_apps(city):\n",
    "  return list(chain.from_iterable(\n",
    "      [payment_app_category.value for payment_app_category in CityPaymentApp[city.name].value]\n",
    "  ))\n",
    "\n",
    "\n",
    "def get_random_amount_within_range(amount_range: AmountRange):\n",
    "  return random.choice(amount_range.value)"
   ]
  },
  {
   "cell_type": "code",
   "execution_count": 20,
   "metadata": {},
   "outputs": [],
   "source": [
    "customer_profile = customer_profiles[0]\n",
    "samples_to_generate = int(stochastic_shift(50, 0.5))\n",
    "\n",
    "city = customer_profile.city\n",
    "currency = get_city_currency(city)\n",
    "transaction_types = get_transaction_types()\n",
    "transaction_channels = get_transaction_channels()\n",
    "payment_apps = get_payment_apps(city)"
   ]
  },
  {
   "cell_type": "code",
   "execution_count": 21,
   "metadata": {},
   "outputs": [
    {
     "data": {
      "text/plain": [
       "'PUNE'"
      ]
     },
     "execution_count": 21,
     "metadata": {},
     "output_type": "execute_result"
    }
   ],
   "source": [
    "customer_profile.city.name"
   ]
  }
 ],
 "metadata": {
  "kernelspec": {
   "display_name": "Python 3",
   "language": "python",
   "name": "python3"
  },
  "language_info": {
   "codemirror_mode": {
    "name": "ipython",
    "version": 3
   },
   "file_extension": ".py",
   "mimetype": "text/x-python",
   "name": "python",
   "nbconvert_exporter": "python",
   "pygments_lexer": "ipython3",
   "version": "3.10.11"
  }
 },
 "nbformat": 4,
 "nbformat_minor": 2
}
