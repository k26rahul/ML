{
  "cells": [
    {
      "cell_type": "code",
      "execution_count": 1,
      "metadata": {
        "id": "UCd1Pb2mvoWG"
      },
      "outputs": [],
      "source": [
        "import pandas as pd\n",
        "import seaborn as sns\n",
        "import numpy as np"
      ]
    },
    {
      "cell_type": "code",
      "execution_count": 2,
      "metadata": {
        "colab": {
          "base_uri": "https://localhost:8080/",
          "height": 238
        },
        "id": "fBkMR_6svthw",
        "outputId": "dfbe401b-4b79-4ef5-e0f0-4c46f7f9d893"
      },
      "outputs": [
        {
          "data": {
            "text/html": [
              "<div>\n",
              "<style scoped>\n",
              "    .dataframe tbody tr th:only-of-type {\n",
              "        vertical-align: middle;\n",
              "    }\n",
              "\n",
              "    .dataframe tbody tr th {\n",
              "        vertical-align: top;\n",
              "    }\n",
              "\n",
              "    .dataframe thead th {\n",
              "        text-align: right;\n",
              "    }\n",
              "</style>\n",
              "<table border=\"1\" class=\"dataframe\">\n",
              "  <thead>\n",
              "    <tr style=\"text-align: right;\">\n",
              "      <th></th>\n",
              "      <th>Timestamp</th>\n",
              "      <th>TransactionID</th>\n",
              "      <th>AccountID</th>\n",
              "      <th>Amount</th>\n",
              "      <th>Merchant</th>\n",
              "      <th>TransactionType</th>\n",
              "      <th>Location</th>\n",
              "    </tr>\n",
              "  </thead>\n",
              "  <tbody>\n",
              "    <tr>\n",
              "      <th>0</th>\n",
              "      <td>01-01-2023 08:00</td>\n",
              "      <td>TXN1127</td>\n",
              "      <td>ACC4</td>\n",
              "      <td>95071.92</td>\n",
              "      <td>MerchantH</td>\n",
              "      <td>Purchase</td>\n",
              "      <td>Tokyo</td>\n",
              "    </tr>\n",
              "    <tr>\n",
              "      <th>1</th>\n",
              "      <td>01-01-2023 08:01</td>\n",
              "      <td>TXN1639</td>\n",
              "      <td>ACC10</td>\n",
              "      <td>15607.89</td>\n",
              "      <td>MerchantH</td>\n",
              "      <td>Purchase</td>\n",
              "      <td>London</td>\n",
              "    </tr>\n",
              "    <tr>\n",
              "      <th>2</th>\n",
              "      <td>01-01-2023 08:02</td>\n",
              "      <td>TXN872</td>\n",
              "      <td>ACC8</td>\n",
              "      <td>65092.34</td>\n",
              "      <td>MerchantE</td>\n",
              "      <td>Withdrawal</td>\n",
              "      <td>London</td>\n",
              "    </tr>\n",
              "    <tr>\n",
              "      <th>3</th>\n",
              "      <td>01-01-2023 08:03</td>\n",
              "      <td>TXN1438</td>\n",
              "      <td>ACC6</td>\n",
              "      <td>87.87</td>\n",
              "      <td>MerchantE</td>\n",
              "      <td>Purchase</td>\n",
              "      <td>London</td>\n",
              "    </tr>\n",
              "    <tr>\n",
              "      <th>4</th>\n",
              "      <td>01-01-2023 08:04</td>\n",
              "      <td>TXN1338</td>\n",
              "      <td>ACC6</td>\n",
              "      <td>716.56</td>\n",
              "      <td>MerchantI</td>\n",
              "      <td>Purchase</td>\n",
              "      <td>Los Angeles</td>\n",
              "    </tr>\n",
              "    <tr>\n",
              "      <th>5</th>\n",
              "      <td>01-01-2023 08:05</td>\n",
              "      <td>TXN1083</td>\n",
              "      <td>ACC15</td>\n",
              "      <td>13957.99</td>\n",
              "      <td>MerchantC</td>\n",
              "      <td>Transfer</td>\n",
              "      <td>London</td>\n",
              "    </tr>\n",
              "  </tbody>\n",
              "</table>\n",
              "</div>"
            ],
            "text/plain": [
              "          Timestamp TransactionID AccountID    Amount   Merchant  \\\n",
              "0  01-01-2023 08:00       TXN1127      ACC4  95071.92  MerchantH   \n",
              "1  01-01-2023 08:01       TXN1639     ACC10  15607.89  MerchantH   \n",
              "2  01-01-2023 08:02        TXN872      ACC8  65092.34  MerchantE   \n",
              "3  01-01-2023 08:03       TXN1438      ACC6     87.87  MerchantE   \n",
              "4  01-01-2023 08:04       TXN1338      ACC6    716.56  MerchantI   \n",
              "5  01-01-2023 08:05       TXN1083     ACC15  13957.99  MerchantC   \n",
              "\n",
              "  TransactionType     Location  \n",
              "0        Purchase        Tokyo  \n",
              "1        Purchase       London  \n",
              "2      Withdrawal       London  \n",
              "3        Purchase       London  \n",
              "4        Purchase  Los Angeles  \n",
              "5        Transfer       London  "
            ]
          },
          "execution_count": 2,
          "metadata": {},
          "output_type": "execute_result"
        }
      ],
      "source": [
        "file_path = './Data/financial_anomaly_data.csv'\n",
        "df = pd.read_csv(file_path)\n",
        "df.head(6)"
      ]
    },
    {
      "cell_type": "code",
      "execution_count": 3,
      "metadata": {
        "colab": {
          "base_uri": "https://localhost:8080/",
          "height": 300
        },
        "id": "AllsYs-cw8L8",
        "outputId": "d10acfae-2815-4d99-cfe9-b535eb20ae35"
      },
      "outputs": [
        {
          "data": {
            "text/html": [
              "<div>\n",
              "<style scoped>\n",
              "    .dataframe tbody tr th:only-of-type {\n",
              "        vertical-align: middle;\n",
              "    }\n",
              "\n",
              "    .dataframe tbody tr th {\n",
              "        vertical-align: top;\n",
              "    }\n",
              "\n",
              "    .dataframe thead th {\n",
              "        text-align: right;\n",
              "    }\n",
              "</style>\n",
              "<table border=\"1\" class=\"dataframe\">\n",
              "  <thead>\n",
              "    <tr style=\"text-align: right;\">\n",
              "      <th></th>\n",
              "      <th>Amount</th>\n",
              "    </tr>\n",
              "  </thead>\n",
              "  <tbody>\n",
              "    <tr>\n",
              "      <th>count</th>\n",
              "      <td>216960.000000</td>\n",
              "    </tr>\n",
              "    <tr>\n",
              "      <th>mean</th>\n",
              "      <td>50090.025108</td>\n",
              "    </tr>\n",
              "    <tr>\n",
              "      <th>std</th>\n",
              "      <td>29097.905016</td>\n",
              "    </tr>\n",
              "    <tr>\n",
              "      <th>min</th>\n",
              "      <td>10.510000</td>\n",
              "    </tr>\n",
              "    <tr>\n",
              "      <th>25%</th>\n",
              "      <td>25061.242500</td>\n",
              "    </tr>\n",
              "    <tr>\n",
              "      <th>50%</th>\n",
              "      <td>50183.980000</td>\n",
              "    </tr>\n",
              "    <tr>\n",
              "      <th>75%</th>\n",
              "      <td>75080.460000</td>\n",
              "    </tr>\n",
              "    <tr>\n",
              "      <th>max</th>\n",
              "      <td>978942.260000</td>\n",
              "    </tr>\n",
              "  </tbody>\n",
              "</table>\n",
              "</div>"
            ],
            "text/plain": [
              "              Amount\n",
              "count  216960.000000\n",
              "mean    50090.025108\n",
              "std     29097.905016\n",
              "min        10.510000\n",
              "25%     25061.242500\n",
              "50%     50183.980000\n",
              "75%     75080.460000\n",
              "max    978942.260000"
            ]
          },
          "execution_count": 3,
          "metadata": {},
          "output_type": "execute_result"
        }
      ],
      "source": [
        "df.describe()"
      ]
    },
    {
      "cell_type": "code",
      "execution_count": 4,
      "metadata": {
        "colab": {
          "base_uri": "https://localhost:8080/",
          "height": 424
        },
        "id": "uwCLqoO7wiv4",
        "outputId": "32f069fd-5d5b-4dc3-e88e-8091951ce52b"
      },
      "outputs": [
        {
          "data": {
            "text/html": [
              "<div>\n",
              "<style scoped>\n",
              "    .dataframe tbody tr th:only-of-type {\n",
              "        vertical-align: middle;\n",
              "    }\n",
              "\n",
              "    .dataframe tbody tr th {\n",
              "        vertical-align: top;\n",
              "    }\n",
              "\n",
              "    .dataframe thead th {\n",
              "        text-align: right;\n",
              "    }\n",
              "</style>\n",
              "<table border=\"1\" class=\"dataframe\">\n",
              "  <thead>\n",
              "    <tr style=\"text-align: right;\">\n",
              "      <th></th>\n",
              "      <th>Timestamp</th>\n",
              "      <th>TransactionID</th>\n",
              "      <th>AccountID</th>\n",
              "      <th>Amount</th>\n",
              "      <th>Merchant</th>\n",
              "      <th>TransactionType</th>\n",
              "      <th>Location</th>\n",
              "    </tr>\n",
              "  </thead>\n",
              "  <tbody>\n",
              "    <tr>\n",
              "      <th>0</th>\n",
              "      <td>False</td>\n",
              "      <td>False</td>\n",
              "      <td>False</td>\n",
              "      <td>False</td>\n",
              "      <td>False</td>\n",
              "      <td>False</td>\n",
              "      <td>False</td>\n",
              "    </tr>\n",
              "    <tr>\n",
              "      <th>1</th>\n",
              "      <td>False</td>\n",
              "      <td>False</td>\n",
              "      <td>False</td>\n",
              "      <td>False</td>\n",
              "      <td>False</td>\n",
              "      <td>False</td>\n",
              "      <td>False</td>\n",
              "    </tr>\n",
              "    <tr>\n",
              "      <th>2</th>\n",
              "      <td>False</td>\n",
              "      <td>False</td>\n",
              "      <td>False</td>\n",
              "      <td>False</td>\n",
              "      <td>False</td>\n",
              "      <td>False</td>\n",
              "      <td>False</td>\n",
              "    </tr>\n",
              "    <tr>\n",
              "      <th>3</th>\n",
              "      <td>False</td>\n",
              "      <td>False</td>\n",
              "      <td>False</td>\n",
              "      <td>False</td>\n",
              "      <td>False</td>\n",
              "      <td>False</td>\n",
              "      <td>False</td>\n",
              "    </tr>\n",
              "    <tr>\n",
              "      <th>4</th>\n",
              "      <td>False</td>\n",
              "      <td>False</td>\n",
              "      <td>False</td>\n",
              "      <td>False</td>\n",
              "      <td>False</td>\n",
              "      <td>False</td>\n",
              "      <td>False</td>\n",
              "    </tr>\n",
              "    <tr>\n",
              "      <th>...</th>\n",
              "      <td>...</td>\n",
              "      <td>...</td>\n",
              "      <td>...</td>\n",
              "      <td>...</td>\n",
              "      <td>...</td>\n",
              "      <td>...</td>\n",
              "      <td>...</td>\n",
              "    </tr>\n",
              "    <tr>\n",
              "      <th>217436</th>\n",
              "      <td>True</td>\n",
              "      <td>True</td>\n",
              "      <td>True</td>\n",
              "      <td>True</td>\n",
              "      <td>True</td>\n",
              "      <td>True</td>\n",
              "      <td>True</td>\n",
              "    </tr>\n",
              "    <tr>\n",
              "      <th>217437</th>\n",
              "      <td>True</td>\n",
              "      <td>True</td>\n",
              "      <td>True</td>\n",
              "      <td>True</td>\n",
              "      <td>True</td>\n",
              "      <td>True</td>\n",
              "      <td>True</td>\n",
              "    </tr>\n",
              "    <tr>\n",
              "      <th>217438</th>\n",
              "      <td>True</td>\n",
              "      <td>True</td>\n",
              "      <td>True</td>\n",
              "      <td>True</td>\n",
              "      <td>True</td>\n",
              "      <td>True</td>\n",
              "      <td>True</td>\n",
              "    </tr>\n",
              "    <tr>\n",
              "      <th>217439</th>\n",
              "      <td>True</td>\n",
              "      <td>True</td>\n",
              "      <td>True</td>\n",
              "      <td>True</td>\n",
              "      <td>True</td>\n",
              "      <td>True</td>\n",
              "      <td>True</td>\n",
              "    </tr>\n",
              "    <tr>\n",
              "      <th>217440</th>\n",
              "      <td>True</td>\n",
              "      <td>True</td>\n",
              "      <td>True</td>\n",
              "      <td>True</td>\n",
              "      <td>True</td>\n",
              "      <td>True</td>\n",
              "      <td>True</td>\n",
              "    </tr>\n",
              "  </tbody>\n",
              "</table>\n",
              "<p>217441 rows × 7 columns</p>\n",
              "</div>"
            ],
            "text/plain": [
              "        Timestamp  TransactionID  AccountID  Amount  Merchant  \\\n",
              "0           False          False      False   False     False   \n",
              "1           False          False      False   False     False   \n",
              "2           False          False      False   False     False   \n",
              "3           False          False      False   False     False   \n",
              "4           False          False      False   False     False   \n",
              "...           ...            ...        ...     ...       ...   \n",
              "217436       True           True       True    True      True   \n",
              "217437       True           True       True    True      True   \n",
              "217438       True           True       True    True      True   \n",
              "217439       True           True       True    True      True   \n",
              "217440       True           True       True    True      True   \n",
              "\n",
              "        TransactionType  Location  \n",
              "0                 False     False  \n",
              "1                 False     False  \n",
              "2                 False     False  \n",
              "3                 False     False  \n",
              "4                 False     False  \n",
              "...                 ...       ...  \n",
              "217436             True      True  \n",
              "217437             True      True  \n",
              "217438             True      True  \n",
              "217439             True      True  \n",
              "217440             True      True  \n",
              "\n",
              "[217441 rows x 7 columns]"
            ]
          },
          "execution_count": 4,
          "metadata": {},
          "output_type": "execute_result"
        }
      ],
      "source": [
        "df.isnull()"
      ]
    },
    {
      "cell_type": "code",
      "execution_count": 5,
      "metadata": {
        "colab": {
          "base_uri": "https://localhost:8080/"
        },
        "id": "2rluje9ewt1D",
        "outputId": "9650acee-1a0c-40be-fbc3-abbd6050e6b2"
      },
      "outputs": [
        {
          "data": {
            "text/plain": [
              "Timestamp          481\n",
              "TransactionID      481\n",
              "AccountID          481\n",
              "Amount             481\n",
              "Merchant           481\n",
              "TransactionType    481\n",
              "Location           481\n",
              "dtype: int64"
            ]
          },
          "execution_count": 5,
          "metadata": {},
          "output_type": "execute_result"
        }
      ],
      "source": [
        "df.isnull().sum()"
      ]
    },
    {
      "cell_type": "code",
      "execution_count": 6,
      "metadata": {
        "colab": {
          "base_uri": "https://localhost:8080/"
        },
        "id": "fKMD-USkwzpz",
        "outputId": "0bc69435-2758-4062-b2aa-904d9a5ca81e"
      },
      "outputs": [
        {
          "data": {
            "text/plain": [
              "Timestamp          216960\n",
              "TransactionID        1999\n",
              "AccountID              15\n",
              "Amount             214687\n",
              "Merchant               10\n",
              "TransactionType         3\n",
              "Location                5\n",
              "dtype: int64"
            ]
          },
          "execution_count": 6,
          "metadata": {},
          "output_type": "execute_result"
        }
      ],
      "source": [
        "df.nunique()"
      ]
    },
    {
      "cell_type": "code",
      "execution_count": 7,
      "metadata": {
        "colab": {
          "base_uri": "https://localhost:8080/",
          "height": 424
        },
        "id": "R39gJ-LCy8D4",
        "outputId": "d9eaf3c0-caad-4d4a-f39d-b71661c3240d"
      },
      "outputs": [
        {
          "data": {
            "text/html": [
              "<div>\n",
              "<style scoped>\n",
              "    .dataframe tbody tr th:only-of-type {\n",
              "        vertical-align: middle;\n",
              "    }\n",
              "\n",
              "    .dataframe tbody tr th {\n",
              "        vertical-align: top;\n",
              "    }\n",
              "\n",
              "    .dataframe thead th {\n",
              "        text-align: right;\n",
              "    }\n",
              "</style>\n",
              "<table border=\"1\" class=\"dataframe\">\n",
              "  <thead>\n",
              "    <tr style=\"text-align: right;\">\n",
              "      <th></th>\n",
              "      <th>Timestamp</th>\n",
              "      <th>TransactionID</th>\n",
              "      <th>AccountID</th>\n",
              "      <th>Amount</th>\n",
              "      <th>Merchant</th>\n",
              "      <th>TransactionType</th>\n",
              "      <th>Location</th>\n",
              "    </tr>\n",
              "  </thead>\n",
              "  <tbody>\n",
              "    <tr>\n",
              "      <th>0</th>\n",
              "      <td>01-01-2023 08:00</td>\n",
              "      <td>TXN1127</td>\n",
              "      <td>ACC4</td>\n",
              "      <td>95071.92</td>\n",
              "      <td>MerchantH</td>\n",
              "      <td>Purchase</td>\n",
              "      <td>Tokyo</td>\n",
              "    </tr>\n",
              "    <tr>\n",
              "      <th>1</th>\n",
              "      <td>01-01-2023 08:01</td>\n",
              "      <td>TXN1639</td>\n",
              "      <td>ACC10</td>\n",
              "      <td>15607.89</td>\n",
              "      <td>MerchantH</td>\n",
              "      <td>Purchase</td>\n",
              "      <td>London</td>\n",
              "    </tr>\n",
              "    <tr>\n",
              "      <th>2</th>\n",
              "      <td>01-01-2023 08:02</td>\n",
              "      <td>TXN872</td>\n",
              "      <td>ACC8</td>\n",
              "      <td>65092.34</td>\n",
              "      <td>MerchantE</td>\n",
              "      <td>Withdrawal</td>\n",
              "      <td>London</td>\n",
              "    </tr>\n",
              "    <tr>\n",
              "      <th>3</th>\n",
              "      <td>01-01-2023 08:03</td>\n",
              "      <td>TXN1438</td>\n",
              "      <td>ACC6</td>\n",
              "      <td>87.87</td>\n",
              "      <td>MerchantE</td>\n",
              "      <td>Purchase</td>\n",
              "      <td>London</td>\n",
              "    </tr>\n",
              "    <tr>\n",
              "      <th>4</th>\n",
              "      <td>01-01-2023 08:04</td>\n",
              "      <td>TXN1338</td>\n",
              "      <td>ACC6</td>\n",
              "      <td>716.56</td>\n",
              "      <td>MerchantI</td>\n",
              "      <td>Purchase</td>\n",
              "      <td>Los Angeles</td>\n",
              "    </tr>\n",
              "    <tr>\n",
              "      <th>...</th>\n",
              "      <td>...</td>\n",
              "      <td>...</td>\n",
              "      <td>...</td>\n",
              "      <td>...</td>\n",
              "      <td>...</td>\n",
              "      <td>...</td>\n",
              "      <td>...</td>\n",
              "    </tr>\n",
              "    <tr>\n",
              "      <th>216955</th>\n",
              "      <td>31-05-2023 23:55</td>\n",
              "      <td>TXN1286</td>\n",
              "      <td>ACC6</td>\n",
              "      <td>62536.88</td>\n",
              "      <td>MerchantA</td>\n",
              "      <td>Withdrawal</td>\n",
              "      <td>San Francisco</td>\n",
              "    </tr>\n",
              "    <tr>\n",
              "      <th>216956</th>\n",
              "      <td>31-05-2023 23:56</td>\n",
              "      <td>TXN1015</td>\n",
              "      <td>ACC5</td>\n",
              "      <td>68629.69</td>\n",
              "      <td>MerchantG</td>\n",
              "      <td>Transfer</td>\n",
              "      <td>London</td>\n",
              "    </tr>\n",
              "    <tr>\n",
              "      <th>216957</th>\n",
              "      <td>31-05-2023 23:57</td>\n",
              "      <td>TXN1979</td>\n",
              "      <td>ACC15</td>\n",
              "      <td>8203.57</td>\n",
              "      <td>MerchantF</td>\n",
              "      <td>Purchase</td>\n",
              "      <td>London</td>\n",
              "    </tr>\n",
              "    <tr>\n",
              "      <th>216958</th>\n",
              "      <td>31-05-2023 23:58</td>\n",
              "      <td>TXN1845</td>\n",
              "      <td>ACC14</td>\n",
              "      <td>77800.36</td>\n",
              "      <td>MerchantF</td>\n",
              "      <td>Purchase</td>\n",
              "      <td>New York</td>\n",
              "    </tr>\n",
              "    <tr>\n",
              "      <th>216959</th>\n",
              "      <td>31-05-2023 23:59</td>\n",
              "      <td>TXN1807</td>\n",
              "      <td>ACC3</td>\n",
              "      <td>65004.99</td>\n",
              "      <td>MerchantG</td>\n",
              "      <td>Withdrawal</td>\n",
              "      <td>Los Angeles</td>\n",
              "    </tr>\n",
              "  </tbody>\n",
              "</table>\n",
              "<p>216960 rows × 7 columns</p>\n",
              "</div>"
            ],
            "text/plain": [
              "               Timestamp TransactionID AccountID    Amount   Merchant  \\\n",
              "0       01-01-2023 08:00       TXN1127      ACC4  95071.92  MerchantH   \n",
              "1       01-01-2023 08:01       TXN1639     ACC10  15607.89  MerchantH   \n",
              "2       01-01-2023 08:02        TXN872      ACC8  65092.34  MerchantE   \n",
              "3       01-01-2023 08:03       TXN1438      ACC6     87.87  MerchantE   \n",
              "4       01-01-2023 08:04       TXN1338      ACC6    716.56  MerchantI   \n",
              "...                  ...           ...       ...       ...        ...   \n",
              "216955  31-05-2023 23:55       TXN1286      ACC6  62536.88  MerchantA   \n",
              "216956  31-05-2023 23:56       TXN1015      ACC5  68629.69  MerchantG   \n",
              "216957  31-05-2023 23:57       TXN1979     ACC15   8203.57  MerchantF   \n",
              "216958  31-05-2023 23:58       TXN1845     ACC14  77800.36  MerchantF   \n",
              "216959  31-05-2023 23:59       TXN1807      ACC3  65004.99  MerchantG   \n",
              "\n",
              "       TransactionType       Location  \n",
              "0             Purchase          Tokyo  \n",
              "1             Purchase         London  \n",
              "2           Withdrawal         London  \n",
              "3             Purchase         London  \n",
              "4             Purchase    Los Angeles  \n",
              "...                ...            ...  \n",
              "216955      Withdrawal  San Francisco  \n",
              "216956        Transfer         London  \n",
              "216957        Purchase         London  \n",
              "216958        Purchase       New York  \n",
              "216959      Withdrawal    Los Angeles  \n",
              "\n",
              "[216960 rows x 7 columns]"
            ]
          },
          "execution_count": 7,
          "metadata": {},
          "output_type": "execute_result"
        }
      ],
      "source": [
        "df_cleaned = df.dropna()\n",
        "df_cleaned"
      ]
    },
    {
      "cell_type": "code",
      "execution_count": 8,
      "metadata": {
        "colab": {
          "base_uri": "https://localhost:8080/",
          "height": 53
        },
        "id": "6rfcMtT9zzDD",
        "outputId": "048396a2-7884-4636-8261-34112985a3d8"
      },
      "outputs": [
        {
          "data": {
            "text/html": [
              "<div>\n",
              "<style scoped>\n",
              "    .dataframe tbody tr th:only-of-type {\n",
              "        vertical-align: middle;\n",
              "    }\n",
              "\n",
              "    .dataframe tbody tr th {\n",
              "        vertical-align: top;\n",
              "    }\n",
              "\n",
              "    .dataframe thead th {\n",
              "        text-align: right;\n",
              "    }\n",
              "</style>\n",
              "<table border=\"1\" class=\"dataframe\">\n",
              "  <thead>\n",
              "    <tr style=\"text-align: right;\">\n",
              "      <th></th>\n",
              "      <th>Timestamp</th>\n",
              "      <th>TransactionID</th>\n",
              "      <th>AccountID</th>\n",
              "      <th>Amount</th>\n",
              "      <th>Merchant</th>\n",
              "      <th>TransactionType</th>\n",
              "      <th>Location</th>\n",
              "    </tr>\n",
              "  </thead>\n",
              "  <tbody>\n",
              "  </tbody>\n",
              "</table>\n",
              "</div>"
            ],
            "text/plain": [
              "Empty DataFrame\n",
              "Columns: [Timestamp, TransactionID, AccountID, Amount, Merchant, TransactionType, Location]\n",
              "Index: []"
            ]
          },
          "execution_count": 8,
          "metadata": {},
          "output_type": "execute_result"
        }
      ],
      "source": [
        "df_cleaned[df_cleaned.isnull().any(axis=1)]"
      ]
    },
    {
      "cell_type": "code",
      "execution_count": 9,
      "metadata": {
        "colab": {
          "base_uri": "https://localhost:8080/"
        },
        "id": "84NRzZUiz1yV",
        "outputId": "7c570324-513f-44d4-d0cd-e389796a44e5"
      },
      "outputs": [
        {
          "data": {
            "text/plain": [
              "Timestamp          216960\n",
              "TransactionID        1999\n",
              "AccountID              15\n",
              "Amount             214687\n",
              "Merchant               10\n",
              "TransactionType         3\n",
              "Location                5\n",
              "dtype: int64"
            ]
          },
          "execution_count": 9,
          "metadata": {},
          "output_type": "execute_result"
        }
      ],
      "source": [
        "df_cleaned.nunique()"
      ]
    },
    {
      "cell_type": "code",
      "execution_count": 10,
      "metadata": {
        "colab": {
          "base_uri": "https://localhost:8080/"
        },
        "id": "jJCVL1n0xG5T",
        "outputId": "c219f97c-9843-4706-f6fa-cb205512c179"
      },
      "outputs": [
        {
          "name": "stdout",
          "output_type": "stream",
          "text": [
            "Unique values in column 'AccountID':\n",
            "ACC1\n",
            "ACC10\n",
            "ACC11\n",
            "ACC12\n",
            "ACC13\n",
            "ACC14\n",
            "ACC15\n",
            "ACC2\n",
            "ACC3\n",
            "ACC4\n",
            "ACC5\n",
            "ACC6\n",
            "ACC7\n",
            "ACC8\n",
            "ACC9\n",
            "\n",
            "Unique values in column 'Merchant':\n",
            "MerchantA\n",
            "MerchantB\n",
            "MerchantC\n",
            "MerchantD\n",
            "MerchantE\n",
            "MerchantF\n",
            "MerchantG\n",
            "MerchantH\n",
            "MerchantI\n",
            "MerchantJ\n",
            "\n",
            "Unique values in column 'TransactionType':\n",
            "Purchase\n",
            "Transfer\n",
            "Withdrawal\n",
            "\n",
            "Unique values in column 'Location':\n",
            "London\n",
            "Los Angeles\n",
            "New York\n",
            "San Francisco\n",
            "Tokyo\n",
            "\n"
          ]
        }
      ],
      "source": [
        "# unique values per column\n",
        "\n",
        "columns_to_include = [\n",
        "    col for col in df_cleaned.columns if df_cleaned[col].nunique() < 20]\n",
        "for column_name in columns_to_include:\n",
        "  unique_values = np.sort(df_cleaned[column_name].unique())\n",
        "  print(f\"Unique values in column '{column_name}':\")\n",
        "  for value in unique_values:\n",
        "    print(value)\n",
        "  print()"
      ]
    },
    {
      "cell_type": "code",
      "execution_count": 11,
      "metadata": {
        "colab": {
          "base_uri": "https://localhost:8080/",
          "height": 424
        },
        "id": "iv2s-2F30Lyv",
        "outputId": "1051f994-5d38-4eb1-c9fe-56125c76ee12"
      },
      "outputs": [
        {
          "data": {
            "text/html": [
              "<div>\n",
              "<style scoped>\n",
              "    .dataframe tbody tr th:only-of-type {\n",
              "        vertical-align: middle;\n",
              "    }\n",
              "\n",
              "    .dataframe tbody tr th {\n",
              "        vertical-align: top;\n",
              "    }\n",
              "\n",
              "    .dataframe thead th {\n",
              "        text-align: right;\n",
              "    }\n",
              "</style>\n",
              "<table border=\"1\" class=\"dataframe\">\n",
              "  <thead>\n",
              "    <tr style=\"text-align: right;\">\n",
              "      <th></th>\n",
              "      <th>Timestamp</th>\n",
              "      <th>TransactionID</th>\n",
              "      <th>AccountID</th>\n",
              "      <th>Amount</th>\n",
              "      <th>Merchant</th>\n",
              "      <th>TransactionType</th>\n",
              "      <th>Location</th>\n",
              "    </tr>\n",
              "  </thead>\n",
              "  <tbody>\n",
              "    <tr>\n",
              "      <th>0</th>\n",
              "      <td>01-01-2023 08:00</td>\n",
              "      <td>TXN1127</td>\n",
              "      <td>ACC4</td>\n",
              "      <td>95071.92</td>\n",
              "      <td>MerchantH</td>\n",
              "      <td>Purchase</td>\n",
              "      <td>Tokyo</td>\n",
              "    </tr>\n",
              "    <tr>\n",
              "      <th>1</th>\n",
              "      <td>01-01-2023 08:01</td>\n",
              "      <td>TXN1639</td>\n",
              "      <td>ACC10</td>\n",
              "      <td>15607.89</td>\n",
              "      <td>MerchantH</td>\n",
              "      <td>Purchase</td>\n",
              "      <td>London</td>\n",
              "    </tr>\n",
              "    <tr>\n",
              "      <th>2</th>\n",
              "      <td>01-01-2023 08:02</td>\n",
              "      <td>TXN872</td>\n",
              "      <td>ACC8</td>\n",
              "      <td>65092.34</td>\n",
              "      <td>MerchantE</td>\n",
              "      <td>Withdrawal</td>\n",
              "      <td>London</td>\n",
              "    </tr>\n",
              "    <tr>\n",
              "      <th>3</th>\n",
              "      <td>01-01-2023 08:03</td>\n",
              "      <td>TXN1438</td>\n",
              "      <td>ACC6</td>\n",
              "      <td>87.87</td>\n",
              "      <td>MerchantE</td>\n",
              "      <td>Purchase</td>\n",
              "      <td>London</td>\n",
              "    </tr>\n",
              "    <tr>\n",
              "      <th>4</th>\n",
              "      <td>01-01-2023 08:04</td>\n",
              "      <td>TXN1338</td>\n",
              "      <td>ACC6</td>\n",
              "      <td>716.56</td>\n",
              "      <td>MerchantI</td>\n",
              "      <td>Purchase</td>\n",
              "      <td>Los Angeles</td>\n",
              "    </tr>\n",
              "    <tr>\n",
              "      <th>...</th>\n",
              "      <td>...</td>\n",
              "      <td>...</td>\n",
              "      <td>...</td>\n",
              "      <td>...</td>\n",
              "      <td>...</td>\n",
              "      <td>...</td>\n",
              "      <td>...</td>\n",
              "    </tr>\n",
              "    <tr>\n",
              "      <th>216955</th>\n",
              "      <td>31-05-2023 23:55</td>\n",
              "      <td>TXN1286</td>\n",
              "      <td>ACC6</td>\n",
              "      <td>62536.88</td>\n",
              "      <td>MerchantA</td>\n",
              "      <td>Withdrawal</td>\n",
              "      <td>San Francisco</td>\n",
              "    </tr>\n",
              "    <tr>\n",
              "      <th>216956</th>\n",
              "      <td>31-05-2023 23:56</td>\n",
              "      <td>TXN1015</td>\n",
              "      <td>ACC5</td>\n",
              "      <td>68629.69</td>\n",
              "      <td>MerchantG</td>\n",
              "      <td>Transfer</td>\n",
              "      <td>London</td>\n",
              "    </tr>\n",
              "    <tr>\n",
              "      <th>216957</th>\n",
              "      <td>31-05-2023 23:57</td>\n",
              "      <td>TXN1979</td>\n",
              "      <td>ACC15</td>\n",
              "      <td>8203.57</td>\n",
              "      <td>MerchantF</td>\n",
              "      <td>Purchase</td>\n",
              "      <td>London</td>\n",
              "    </tr>\n",
              "    <tr>\n",
              "      <th>216958</th>\n",
              "      <td>31-05-2023 23:58</td>\n",
              "      <td>TXN1845</td>\n",
              "      <td>ACC14</td>\n",
              "      <td>77800.36</td>\n",
              "      <td>MerchantF</td>\n",
              "      <td>Purchase</td>\n",
              "      <td>New York</td>\n",
              "    </tr>\n",
              "    <tr>\n",
              "      <th>216959</th>\n",
              "      <td>31-05-2023 23:59</td>\n",
              "      <td>TXN1807</td>\n",
              "      <td>ACC3</td>\n",
              "      <td>65004.99</td>\n",
              "      <td>MerchantG</td>\n",
              "      <td>Withdrawal</td>\n",
              "      <td>Los Angeles</td>\n",
              "    </tr>\n",
              "  </tbody>\n",
              "</table>\n",
              "<p>216960 rows × 7 columns</p>\n",
              "</div>"
            ],
            "text/plain": [
              "               Timestamp TransactionID AccountID    Amount   Merchant  \\\n",
              "0       01-01-2023 08:00       TXN1127      ACC4  95071.92  MerchantH   \n",
              "1       01-01-2023 08:01       TXN1639     ACC10  15607.89  MerchantH   \n",
              "2       01-01-2023 08:02        TXN872      ACC8  65092.34  MerchantE   \n",
              "3       01-01-2023 08:03       TXN1438      ACC6     87.87  MerchantE   \n",
              "4       01-01-2023 08:04       TXN1338      ACC6    716.56  MerchantI   \n",
              "...                  ...           ...       ...       ...        ...   \n",
              "216955  31-05-2023 23:55       TXN1286      ACC6  62536.88  MerchantA   \n",
              "216956  31-05-2023 23:56       TXN1015      ACC5  68629.69  MerchantG   \n",
              "216957  31-05-2023 23:57       TXN1979     ACC15   8203.57  MerchantF   \n",
              "216958  31-05-2023 23:58       TXN1845     ACC14  77800.36  MerchantF   \n",
              "216959  31-05-2023 23:59       TXN1807      ACC3  65004.99  MerchantG   \n",
              "\n",
              "       TransactionType       Location  \n",
              "0             Purchase          Tokyo  \n",
              "1             Purchase         London  \n",
              "2           Withdrawal         London  \n",
              "3             Purchase         London  \n",
              "4             Purchase    Los Angeles  \n",
              "...                ...            ...  \n",
              "216955      Withdrawal  San Francisco  \n",
              "216956        Transfer         London  \n",
              "216957        Purchase         London  \n",
              "216958        Purchase       New York  \n",
              "216959      Withdrawal    Los Angeles  \n",
              "\n",
              "[216960 rows x 7 columns]"
            ]
          },
          "execution_count": 11,
          "metadata": {},
          "output_type": "execute_result"
        }
      ],
      "source": [
        "df_original = df\n",
        "df = df_cleaned\n",
        "df"
      ]
    },
    {
      "cell_type": "code",
      "execution_count": 12,
      "metadata": {
        "colab": {
          "base_uri": "https://localhost:8080/",
          "height": 300
        },
        "id": "SA6g2Bjx0eHp",
        "outputId": "247d2e26-3f10-4087-a400-cbd9cd535819"
      },
      "outputs": [
        {
          "data": {
            "text/html": [
              "<div>\n",
              "<style scoped>\n",
              "    .dataframe tbody tr th:only-of-type {\n",
              "        vertical-align: middle;\n",
              "    }\n",
              "\n",
              "    .dataframe tbody tr th {\n",
              "        vertical-align: top;\n",
              "    }\n",
              "\n",
              "    .dataframe thead th {\n",
              "        text-align: right;\n",
              "    }\n",
              "</style>\n",
              "<table border=\"1\" class=\"dataframe\">\n",
              "  <thead>\n",
              "    <tr style=\"text-align: right;\">\n",
              "      <th></th>\n",
              "      <th>Amount</th>\n",
              "    </tr>\n",
              "  </thead>\n",
              "  <tbody>\n",
              "    <tr>\n",
              "      <th>count</th>\n",
              "      <td>216960.000000</td>\n",
              "    </tr>\n",
              "    <tr>\n",
              "      <th>mean</th>\n",
              "      <td>50090.025108</td>\n",
              "    </tr>\n",
              "    <tr>\n",
              "      <th>std</th>\n",
              "      <td>29097.905016</td>\n",
              "    </tr>\n",
              "    <tr>\n",
              "      <th>min</th>\n",
              "      <td>10.510000</td>\n",
              "    </tr>\n",
              "    <tr>\n",
              "      <th>25%</th>\n",
              "      <td>25061.242500</td>\n",
              "    </tr>\n",
              "    <tr>\n",
              "      <th>50%</th>\n",
              "      <td>50183.980000</td>\n",
              "    </tr>\n",
              "    <tr>\n",
              "      <th>75%</th>\n",
              "      <td>75080.460000</td>\n",
              "    </tr>\n",
              "    <tr>\n",
              "      <th>max</th>\n",
              "      <td>978942.260000</td>\n",
              "    </tr>\n",
              "  </tbody>\n",
              "</table>\n",
              "</div>"
            ],
            "text/plain": [
              "              Amount\n",
              "count  216960.000000\n",
              "mean    50090.025108\n",
              "std     29097.905016\n",
              "min        10.510000\n",
              "25%     25061.242500\n",
              "50%     50183.980000\n",
              "75%     75080.460000\n",
              "max    978942.260000"
            ]
          },
          "execution_count": 12,
          "metadata": {},
          "output_type": "execute_result"
        }
      ],
      "source": [
        "df.describe()"
      ]
    },
    {
      "cell_type": "code",
      "execution_count": 13,
      "metadata": {
        "id": "2xFdP8HI9ExB"
      },
      "outputs": [],
      "source": [
        "from sklearn.preprocessing import LabelEncoder, MinMaxScaler, FunctionTransformer\n",
        "from sklearn.pipeline import Pipeline, make_pipeline\n",
        "from sklearn.model_selection import train_test_split\n",
        "from sklearn.compose import ColumnTransformer\n",
        "from sklearn.feature_selection import SelectKBest, chi2"
      ]
    },
    {
      "cell_type": "code",
      "execution_count": 14,
      "metadata": {
        "colab": {
          "base_uri": "https://localhost:8080/"
        },
        "id": "m1qCQbhGCKHC",
        "outputId": "5f344ff7-8c24-4c60-f056-dea475b4dbfd"
      },
      "outputs": [],
      "source": [
        "df = df.drop(columns=['TransactionID'])"
      ]
    },
    {
      "cell_type": "code",
      "execution_count": 15,
      "metadata": {
        "id": "kMLypkdk6VUI"
      },
      "outputs": [],
      "source": [
        "def date_time_splitter(df: pd.DataFrame):\n",
        "  df = df.copy()\n",
        "  df['Timestamp'] = pd.to_datetime(\n",
        "      df['Timestamp'], format='%d-%m-%Y %H:%M')  # Parse timestamp format\n",
        "\n",
        "  df.loc[:, 'Day'] = df['Timestamp'].dt.day\n",
        "  df.loc[:, 'Month'] = df['Timestamp'].dt.month\n",
        "  df.loc[:, 'Year'] = df['Timestamp'].dt.year\n",
        "  df.loc[:, 'Hour'] = df['Timestamp'].dt.hour\n",
        "  df.loc[:, 'Minute'] = df['Timestamp'].dt.minute\n",
        "\n",
        "  df = df.drop(columns=['Timestamp'])\n",
        "\n",
        "  return df"
      ]
    },
    {
      "cell_type": "code",
      "execution_count": 16,
      "metadata": {},
      "outputs": [],
      "source": [
        "df_original = df\n",
        "df = date_time_splitter(df)"
      ]
    },
    {
      "cell_type": "code",
      "execution_count": 17,
      "metadata": {},
      "outputs": [
        {
          "data": {
            "text/plain": [
              "Index(['AccountID', 'Merchant', 'TransactionType', 'Location'], dtype='object')"
            ]
          },
          "execution_count": 17,
          "metadata": {},
          "output_type": "execute_result"
        },
        {
          "data": {
            "text/plain": [
              "Index(['Amount', 'Day', 'Month', 'Year', 'Hour', 'Minute'], dtype='object')"
            ]
          },
          "execution_count": 17,
          "metadata": {},
          "output_type": "execute_result"
        }
      ],
      "source": [
        "categorical_cols = df.select_dtypes(include=['object']).columns\n",
        "categorical_cols\n",
        "\n",
        "numerical_cols = df.select_dtypes(include=['number']).columns\n",
        "numerical_cols"
      ]
    },
    {
      "cell_type": "code",
      "execution_count": 18,
      "metadata": {},
      "outputs": [],
      "source": [
        "transformers = [\n",
        "    # ('scaler', MinMaxScaler(), ['Amount']),\n",
        "    ('label', LabelEncoder(), [\n",
        "        'AccountID', 'Merchant', 'TransactionType', 'Location'\n",
        "    ]),\n",
        "    # (\"date_time_splitter\", FunctionTransformer(lambda df_original: date_time_splitter(df_original)), df_original.columns)\n",
        "]"
      ]
    },
    {
      "cell_type": "code",
      "execution_count": 19,
      "metadata": {},
      "outputs": [],
      "source": [
        "preprocessor = ColumnTransformer(\n",
        "    transformers=transformers, remainder='passthrough')"
      ]
    },
    {
      "cell_type": "code",
      "execution_count": 20,
      "metadata": {},
      "outputs": [],
      "source": [
        "# preprocessor.fit(df_original)"
      ]
    },
    {
      "cell_type": "code",
      "execution_count": 21,
      "metadata": {
        "id": "hTQh6KlJV0Vq"
      },
      "outputs": [],
      "source": [
        "def encode_categorical_features(df):\n",
        "  encoder = LabelEncoder()\n",
        "  return encoder.fit_transform(df)"
      ]
    },
    {
      "cell_type": "code",
      "execution_count": 22,
      "metadata": {
        "id": "B38bwUA1V9Ss"
      },
      "outputs": [],
      "source": [
        "def scale_numerical_features(df):\n",
        "  scaler = MinMaxScaler()\n",
        "  return scaler.fit_transform(df[['Amount']])"
      ]
    },
    {
      "cell_type": "code",
      "execution_count": 23,
      "metadata": {
        "id": "kKUSdER7YN7_"
      },
      "outputs": [],
      "source": [
        "trf1 = ColumnTransformer(\n",
        "    transformers=[\n",
        "        # Wrap in FunctionTransformer\n",
        "        (\"date_time_sep\", FunctionTransformer(\n",
        "            lambda x: date_time_splitter(x)), [0]),\n",
        "    ],\n",
        "    remainder='passthrough'\n",
        ")\n",
        "\n",
        "trf2 = ColumnTransformer(\n",
        "    transformers=[\n",
        "        (\"label_encode_categorical\", FunctionTransformer(\n",
        "            lambda x: encode_categorical_features(x, [1, 3, 4, 5]))),\n",
        "    ],\n",
        "    remainder='passthrough'\n",
        ")\n",
        "\n",
        "trf3 = ColumnTransformer(\n",
        "    transformers=[\n",
        "        (\"scale_amount\", FunctionTransformer(scale_numerical_features), [3]),\n",
        "    ],\n",
        "    remainder='passthrough'\n",
        ")"
      ]
    },
    {
      "cell_type": "code",
      "execution_count": 24,
      "metadata": {
        "id": "1uiYJudPa8-I"
      },
      "outputs": [],
      "source": [
        "pipeline = Pipeline([\n",
        "    ('trf1', trf1),\n",
        "    ('trf2', trf2),\n",
        "    ('trf3', trf3)\n",
        "])"
      ]
    },
    {
      "cell_type": "code",
      "execution_count": 25,
      "metadata": {
        "id": "a-NrLd6Xi0Xt"
      },
      "outputs": [],
      "source": [
        "# data = pd.DataFrame(df)"
      ]
    },
    {
      "cell_type": "code",
      "execution_count": 26,
      "metadata": {
        "colab": {
          "base_uri": "https://localhost:8080/",
          "height": 339
        },
        "id": "bSCe1cDtjfeC",
        "outputId": "625cd71d-22a1-49e4-bb3f-65ce7c323452"
      },
      "outputs": [],
      "source": [
        "# pipeline.fit(data)\n",
        "# df_transformed = pipeline.transform(data)\n",
        "\n",
        "# print(df_transformed)"
      ]
    }
  ],
  "metadata": {
    "colab": {
      "provenance": []
    },
    "kernelspec": {
      "display_name": "Python 3",
      "name": "python3"
    },
    "language_info": {
      "codemirror_mode": {
        "name": "ipython",
        "version": 3
      },
      "file_extension": ".py",
      "mimetype": "text/x-python",
      "name": "python",
      "nbconvert_exporter": "python",
      "pygments_lexer": "ipython3",
      "version": "3.10.11"
    }
  },
  "nbformat": 4,
  "nbformat_minor": 0
}
